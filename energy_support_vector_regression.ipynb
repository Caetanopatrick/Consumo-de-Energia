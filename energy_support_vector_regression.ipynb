{
  "nbformat": 4,
  "nbformat_minor": 0,
  "metadata": {
    "colab": {
      "name": "energy_support_vector_regression.ipynb",
      "provenance": [],
      "collapsed_sections": [],
      "toc_visible": true
    },
    "kernelspec": {
      "name": "python3",
      "display_name": "Python 3"
    }
  },
  "cells": [
    {
      "cell_type": "markdown",
      "metadata": {
        "id": "m3PAEPRDRLA3",
        "colab_type": "text"
      },
      "source": [
        "# Support Vector Regression (SVR)"
      ]
    },
    {
      "cell_type": "markdown",
      "metadata": {
        "id": "0VCUAVIjRdzZ",
        "colab_type": "text"
      },
      "source": [
        "## Importing the libraries"
      ]
    },
    {
      "cell_type": "code",
      "metadata": {
        "id": "56oRF-QfSDzC",
        "colab_type": "code",
        "colab": {}
      },
      "source": [
        "import numpy as np\n",
        "import matplotlib.pyplot as plt\n",
        "import pandas as pd"
      ],
      "execution_count": 6,
      "outputs": []
    },
    {
      "cell_type": "markdown",
      "metadata": {
        "id": "fXVXoFWtSF4_",
        "colab_type": "text"
      },
      "source": [
        "## Importing the dataset"
      ]
    },
    {
      "cell_type": "code",
      "metadata": {
        "id": "xfoa8OSORfHQ",
        "colab_type": "code",
        "colab": {}
      },
      "source": [
        "dataset = pd.read_csv('DatasetMonthly3.csv')\n",
        "train = dataset.iloc[0:123,:] \n",
        "test = dataset.iloc[123:-1,:] \n",
        "\n",
        "X_train = np.array(train.iloc[:, 0]).reshape(-1, 1)\n",
        "y_train = np.array(train.iloc[:, 1]).reshape(-1, 1)\n",
        "X_test = np.array(test.iloc[:, 0]).reshape(-1, 1)\n",
        "y_test = np.array(test.iloc[:, 1]).reshape(-1, 1)"
      ],
      "execution_count": 7,
      "outputs": []
    },
    {
      "cell_type": "markdown",
      "metadata": {
        "id": "YS8FeLHYS-nI",
        "colab_type": "text"
      },
      "source": [
        "## Feature Scaling"
      ]
    },
    {
      "cell_type": "code",
      "metadata": {
        "id": "PGeAlD1HTDI1",
        "colab_type": "code",
        "colab": {}
      },
      "source": [
        "from sklearn.preprocessing import StandardScaler\n",
        "sc_X = StandardScaler()\n",
        "sc_y = StandardScaler()\n",
        "X_train = sc_X.fit_transform(X_train)\n",
        "y_train = sc_y.fit_transform(y_train)\n",
        "\n",
        "\n"
      ],
      "execution_count": 8,
      "outputs": []
    },
    {
      "cell_type": "markdown",
      "metadata": {
        "id": "eiU6D2QFRjxY",
        "colab_type": "text"
      },
      "source": [
        "## Training the SVR model on the Training set"
      ]
    },
    {
      "cell_type": "code",
      "metadata": {
        "id": "y6R4rt_GRz15",
        "colab_type": "code",
        "colab": {
          "base_uri": "https://localhost:8080/",
          "height": 105
        },
        "outputId": "9fb91217-7676-4df6-84c7-3c741fb54482"
      },
      "source": [
        "from sklearn.svm import SVR\n",
        "regressor = SVR(kernel = 'rbf')\n",
        "regressor.fit(X_train, y_train)"
      ],
      "execution_count": 9,
      "outputs": [
        {
          "output_type": "stream",
          "text": [
            "/usr/local/lib/python3.6/dist-packages/sklearn/utils/validation.py:760: DataConversionWarning: A column-vector y was passed when a 1d array was expected. Please change the shape of y to (n_samples, ), for example using ravel().\n",
            "  y = column_or_1d(y, warn=True)\n"
          ],
          "name": "stderr"
        },
        {
          "output_type": "execute_result",
          "data": {
            "text/plain": [
              "SVR(C=1.0, cache_size=200, coef0=0.0, degree=3, epsilon=0.1, gamma='scale',\n",
              "    kernel='rbf', max_iter=-1, shrinking=True, tol=0.001, verbose=False)"
            ]
          },
          "metadata": {
            "tags": []
          },
          "execution_count": 9
        }
      ]
    },
    {
      "cell_type": "markdown",
      "metadata": {
        "id": "aPYA5W1pDBOE",
        "colab_type": "text"
      },
      "source": [
        "## Predicting the Test set results"
      ]
    },
    {
      "cell_type": "code",
      "metadata": {
        "id": "vSqFVDYrDROW",
        "colab_type": "code",
        "colab": {
          "base_uri": "https://localhost:8080/",
          "height": 1000
        },
        "outputId": "30995ab4-9a0f-4364-b99c-c9fcf1357a0b"
      },
      "source": [
        "y_pred = sc_y.inverse_transform(regressor.predict(sc_X.transform(X_test)))\n",
        "np.set_printoptions(precision=2)\n",
        "print(np.concatenate((y_pred.reshape(len(y_pred),1), y_test.reshape(len(y_test),1)),1))"
      ],
      "execution_count": 10,
      "outputs": [
        {
          "output_type": "stream",
          "text": [
            "[[39408760.12 39591854.  ]\n",
            " [39447288.77 39100499.  ]\n",
            " [39478920.53 37726472.88]\n",
            " [39501298.83 37866809.  ]\n",
            " [39515626.06 38550694.  ]\n",
            " [39520763.4  38894976.  ]\n",
            " [39516794.83 40100440.59]\n",
            " [39503310.78 40950726.39]\n",
            " [39481093.63 39838307.03]\n",
            " [39448625.99 40738291.74]\n",
            " [39406513.41 40699842.98]\n",
            " [39360251.45 39735951.44]\n",
            " [39300052.01 39573744.46]\n",
            " [39232983.81 38179073.88]\n",
            " [39154815.79 37240557.1 ]\n",
            " [39070870.69 36792495.92]\n",
            " [38975893.64 37836828.47]\n",
            " [38872942.17 37818309.05]\n",
            " [38766135.63 39252000.52]\n",
            " [38648822.88 39201262.49]\n",
            " [38529054.39 38645417.47]\n",
            " [38399378.53 38376549.11]\n",
            " [38264257.58 38693924.07]\n",
            " [38133450.16 39427420.71]\n",
            " [37989489.98 40248709.4 ]\n",
            " [37846678.52 38626336.87]\n",
            " [37696101.65 37527874.44]\n",
            " [37548054.7  37232054.08]\n",
            " [37393269.88 37668458.76]\n",
            " [37237255.02 38319671.43]\n",
            " [37085662.54 38175488.11]\n",
            " [36928948.34 38728525.32]\n",
            " [36777741.18 38754623.81]\n",
            " [36622477.86 39342315.85]\n",
            " [36468713.02 38813276.99]\n",
            " [36331510.99 40518867.04]\n",
            " [36181878.62 39408438.43]\n",
            " [36039716.89 38127628.99]\n",
            " [35895912.84 38087867.68]\n",
            " [35760059.53 37353355.38]\n",
            " [35623394.05 37838292.59]\n",
            " [35490768.01 38982223.2 ]\n",
            " [35366481.68 39311992.89]\n",
            " [35242436.63 39799807.83]\n",
            " [35126782.32 39577111.84]\n",
            " [35011928.5  40003644.79]\n",
            " [34901895.99 39100842.44]\n",
            " [34806705.43 41036995.6 ]\n",
            " [34705986.8  40622115.05]\n",
            " [34613193.45 39192049.51]\n",
            " [34522117.51 38134883.58]\n",
            " [34438591.94 38438004.92]\n",
            " [34356982.45 38939067.05]\n",
            " [34280063.72 38961360.65]\n",
            " [34209993.66 40321034.99]\n",
            " [34141983.73 40303503.09]\n",
            " [34080297.16 39766608.46]\n",
            " [34020680.45 41631607.05]\n",
            " [33965104.8  41195735.58]\n",
            " [33918246.33 40982099.  ]\n",
            " [33869909.79 39570709.74]\n",
            " [33826520.67 40498880.32]]\n"
          ],
          "name": "stdout"
        }
      ]
    },
    {
      "cell_type": "markdown",
      "metadata": {
        "id": "CMsYlps2DX1d",
        "colab_type": "text"
      },
      "source": [
        "## Evaluating the Model Performance"
      ]
    },
    {
      "cell_type": "code",
      "metadata": {
        "id": "HxsRWlURDr6S",
        "colab_type": "code",
        "colab": {
          "base_uri": "https://localhost:8080/",
          "height": 51
        },
        "outputId": "e556d8df-8b82-4ab0-a87c-6b9c861aabbf"
      },
      "source": [
        "from sklearn.metrics import r2_score\n",
        "from sklearn.metrics import mean_squared_error\n",
        "import math\n",
        "print(r2_score(y_test, y_pred))\n",
        "print(math.sqrt(mean_squared_error(y_test, y_pred)))"
      ],
      "execution_count": 13,
      "outputs": [
        {
          "output_type": "stream",
          "text": [
            "-8.295968435455498\n",
            "3415769.818238113\n"
          ],
          "name": "stdout"
        }
      ]
    },
    {
      "cell_type": "markdown",
      "metadata": {
        "id": "HlrvC4EkP-gZ",
        "colab_type": "text"
      },
      "source": [
        "## Visualising the Support Vector Regression results (for higher resolution and smoother curve)"
      ]
    },
    {
      "cell_type": "code",
      "metadata": {
        "id": "8qV_qOQgJE3V",
        "colab_type": "code",
        "colab": {
          "base_uri": "https://localhost:8080/",
          "height": 295
        },
        "outputId": "260bdf46-474f-430d-d52e-1ede6010511d"
      },
      "source": [
        "X_grid = np.arange(min(X_test), max(X_test), 0.1)\n",
        "X_grid = X_grid.reshape((len(X_grid), 1))\n",
        "plt.scatter(X_test, y_test, color = 'red')\n",
        "plt.plot(X_grid, sc_y.inverse_transform(regressor.predict(sc_X.transform(X_grid))), color = 'blue')\n",
        "plt.title('Energy Consumption vs Time')\n",
        "plt.xlabel('Time')\n",
        "plt.ylabel('Energy Consumption')\n",
        "plt.show()"
      ],
      "execution_count": 12,
      "outputs": [
        {
          "output_type": "display_data",
          "data": {
            "image/png": "[encoded data removed]",
            "text/plain": [
              "<Figure size 432x288 with 1 Axes>"
            ]
          },
          "metadata": {
            "tags": [],
            "needs_background": "light"
          }
        }
      ]
    },
    {
      "cell_type": "code",
      "metadata": {
        "id": "tiLdjb99UQgX",
        "colab_type": "code",
        "colab": {}
      },
      "source": [
        ""
      ],
      "execution_count": 12,
      "outputs": []
    }
  ]
}