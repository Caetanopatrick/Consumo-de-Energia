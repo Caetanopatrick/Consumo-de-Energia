{
  "nbformat": 4,
  "nbformat_minor": 0,
  "metadata": {
    "colab": {
      "name": "energy_polynomial_regression.ipynb",
      "provenance": [],
      "collapsed_sections": [],
      "toc_visible": true
    },
    "kernelspec": {
      "name": "python3",
      "display_name": "Python 3"
    }
  },
  "cells": [
    {
      "cell_type": "markdown",
      "metadata": {
        "id": "vN99YjPTDena",
        "colab_type": "text"
      },
      "source": [
        "# Polynomial Regression"
      ]
    },
    {
      "cell_type": "markdown",
      "metadata": {
        "id": "ZIx_naXnDyHd",
        "colab_type": "text"
      },
      "source": [
        "## Importing the libraries"
      ]
    },
    {
      "cell_type": "code",
      "metadata": {
        "id": "FjnmdyPLD2tS",
        "colab_type": "code",
        "colab": {}
      },
      "source": [
        "import numpy as np\n",
        "import matplotlib.pyplot as plt\n",
        "import pandas as pd"
      ],
      "execution_count": 2,
      "outputs": []
    },
    {
      "cell_type": "markdown",
      "metadata": {
        "id": "6c8YExmOD5x5",
        "colab_type": "text"
      },
      "source": [
        "## Importing the dataset"
      ]
    },
    {
      "cell_type": "code",
      "metadata": {
        "id": "nQOdXhjXD_AE",
        "colab_type": "code",
        "colab": {}
      },
      "source": [
        "dataset = pd.read_csv('DatasetMonthly3.csv')\n",
        "train = dataset.iloc[0:123,:] \n",
        "test = dataset.iloc[123:-1,:] \n",
        "\n",
        "X_train = np.array(train.iloc[:, 0]).reshape(-1, 1)\n",
        "y_train = np.array(train.iloc[:, 1]).reshape(-1, 1)\n",
        "X_test = np.array(test.iloc[:, 0]).reshape(-1, 1)\n",
        "y_test = np.array(test.iloc[:, 1]).reshape(-1, 1)\n"
      ],
      "execution_count": 3,
      "outputs": []
    },
    {
      "cell_type": "markdown",
      "metadata": {
        "id": "Le8SEL-YEOLb",
        "colab_type": "text"
      },
      "source": [
        "## Training the Linear Regression model on the Training set"
      ]
    },
    {
      "cell_type": "code",
      "metadata": {
        "id": "2eZ4xxbKEcBk",
        "colab_type": "code",
        "colab": {
          "base_uri": "https://localhost:8080/",
          "height": 34
        },
        "outputId": "bc50e00a-3de2-4209-bcf2-88530334f123"
      },
      "source": [
        "from sklearn.linear_model import LinearRegression\n",
        "lin_reg = LinearRegression()\n",
        "lin_reg.fit(X_train, y_train)"
      ],
      "execution_count": 4,
      "outputs": [
        {
          "output_type": "execute_result",
          "data": {
            "text/plain": [
              "LinearRegression(copy_X=True, fit_intercept=True, n_jobs=None, normalize=False)"
            ]
          },
          "metadata": {
            "tags": []
          },
          "execution_count": 4
        }
      ]
    },
    {
      "cell_type": "markdown",
      "metadata": {
        "id": "Rb5nWuSHEfBV",
        "colab_type": "text"
      },
      "source": [
        "## Training the Polynomial Regression model on the Training set"
      ]
    },
    {
      "cell_type": "code",
      "metadata": {
        "id": "HYplp4pTEm0O",
        "colab_type": "code",
        "colab": {
          "base_uri": "https://localhost:8080/",
          "height": 34
        },
        "outputId": "a0ce36f5-1b15-4e45-b0df-a26193bc2ead"
      },
      "source": [
        "from sklearn.preprocessing import PolynomialFeatures\n",
        "poly_reg = PolynomialFeatures(degree = 4)\n",
        "X_poly = poly_reg.fit_transform(X_train)\n",
        "lin_reg_2 = LinearRegression()\n",
        "lin_reg_2.fit(X_poly, y_train)"
      ],
      "execution_count": 5,
      "outputs": [
        {
          "output_type": "execute_result",
          "data": {
            "text/plain": [
              "LinearRegression(copy_X=True, fit_intercept=True, n_jobs=None, normalize=False)"
            ]
          },
          "metadata": {
            "tags": []
          },
          "execution_count": 5
        }
      ]
    },
    {
      "cell_type": "markdown",
      "metadata": {
        "id": "_AHjOokaPJVr",
        "colab_type": "text"
      },
      "source": [
        "## Predicting the Test set results"
      ]
    },
    {
      "cell_type": "code",
      "metadata": {
        "id": "kc5ScBbaHI7A",
        "colab_type": "code",
        "colab": {
          "base_uri": "https://localhost:8080/",
          "height": 1000
        },
        "outputId": "c0975b03-e0fd-4a81-b3bc-6ccbf642133f"
      },
      "source": [
        "y_pred = lin_reg_2.predict(poly_reg.fit_transform(X_test))\n",
        "np.set_printoptions(precision=2)\n",
        "print(np.concatenate((y_pred.reshape(len(y_pred),1), y_test.reshape(len(y_test),1)),1))"
      ],
      "execution_count": 6,
      "outputs": [
        {
          "output_type": "stream",
          "text": [
            "[[40439956.01 39591854.  ]\n",
            " [40605707.96 39100499.  ]\n",
            " [40778899.46 37726472.88]\n",
            " [40948379.9  37866809.  ]\n",
            " [41125472.07 38550694.  ]\n",
            " [41304583.35 38894976.  ]\n",
            " [41479862.71 40100440.59]\n",
            " [41663019.7  40950726.39]\n",
            " [41842260.98 39838307.03]\n",
            " [42029560.32 40738291.74]\n",
            " [42219001.93 40699842.98]\n",
            " [42391972.7  39735951.44]\n",
            " [42585560.96 39573744.46]\n",
            " [42775013.43 38179073.88]\n",
            " [42972984.86 37240557.1 ]\n",
            " [43166726.45 36792495.92]\n",
            " [43369178.98 37836828.47]\n",
            " [43573946.44 37818309.05]\n",
            " [43774336.58 39252000.52]\n",
            " [43983733.55 39201262.49]\n",
            " [44188651.66 38645417.47]\n",
            " [44402777.02 38376549.11]\n",
            " [44619343.33 38693924.07]\n",
            " [44824170.19 39427420.71]\n",
            " [45045533.93 40248709.4 ]\n",
            " [45262152.67 38626336.87]\n",
            " [45488492.78 37527874.44]\n",
            " [45709975.78 37232054.08]\n",
            " [45941392.44 37668458.76]\n",
            " [46175427.48 38319671.43]\n",
            " [46404430.57 38175488.11]\n",
            " [46643693.95 38728525.32]\n",
            " [46877805.59 38754623.81]\n",
            " [47122398.41 39342315.85]\n",
            " [47369738.49 38813276.99]\n",
            " [47595525.61 40518867.04]\n",
            " [47848166.96 39408438.43]\n",
            " [48095346.79 38127628.99]\n",
            " [48353569.47 38087867.68]\n",
            " [48606200.1  37353355.38]\n",
            " [48870106.51 37838292.59]\n",
            " [49136940.74 38982223.2 ]\n",
            " [49397980.13 39311992.89]\n",
            " [49670653.25 39799807.83]\n",
            " [49937393.14 39577111.84]\n",
            " [50216008.49 40003644.79]\n",
            " [50497683.39 39100842.44]\n",
            " [50754751.49 41036995.6 ]\n",
            " [51042323.57 40622115.05]\n",
            " [51323606.25 39192049.51]\n",
            " [51617377.98 38134883.58]\n",
            " [51904710.91 38438004.92]\n",
            " [52204786.93 38939067.05]\n",
            " [52508106.98 38961360.65]\n",
            " [52804756.87 40321034.99]\n",
            " [53114539.73 40303503.09]\n",
            " [53417494.99 39766608.46]\n",
            " [53733846.24 41631607.05]\n",
            " [54053576.1  41195735.58]\n",
            " [54345291.15 40982099.  ]\n",
            " [54671527.04 39570709.74]\n",
            " [54990531.69 40498880.32]]\n"
          ],
          "name": "stdout"
        }
      ]
    },
    {
      "cell_type": "markdown",
      "metadata": {
        "id": "ArEP2HtMPMU4",
        "colab_type": "text"
      },
      "source": [
        "## Evaluating the Model Performance"
      ]
    },
    {
      "cell_type": "code",
      "metadata": {
        "id": "4BO896UmH2Au",
        "colab_type": "code",
        "colab": {
          "base_uri": "https://localhost:8080/",
          "height": 51
        },
        "outputId": "91304ecc-53f3-487a-bf0c-c532b6abbccf"
      },
      "source": [
        "from sklearn.metrics import r2_score\n",
        "from sklearn.metrics import mean_squared_error\n",
        "import math\n",
        "print(r2_score(y_test, y_pred))\n",
        "print(math.sqrt(mean_squared_error(y_test, y_pred)))"
      ],
      "execution_count": 7,
      "outputs": [
        {
          "output_type": "stream",
          "text": [
            "-60.451289474711395\n",
            "8782269.837715602\n"
          ],
          "name": "stdout"
        }
      ]
    },
    {
      "cell_type": "markdown",
      "metadata": {
        "id": "U_qsAMKnE-PJ",
        "colab_type": "text"
      },
      "source": [
        "## Visualising the Polynomial Regression results (for higher resolution and smoother curve)"
      ]
    },
    {
      "cell_type": "code",
      "metadata": {
        "id": "iE6EnC3fFClE",
        "colab_type": "code",
        "colab": {
          "base_uri": "https://localhost:8080/",
          "height": 295
        },
        "outputId": "35f51d8e-eaf7-43da-f0fb-894252e3d91f"
      },
      "source": [
        "X_grid = np.arange(min(X_test), max(X_test), 0.1)\n",
        "X_grid = X_grid.reshape((len(X_grid), 1))\n",
        "plt.scatter(X_test, y_test, color = 'red')\n",
        "plt.plot(X_grid, lin_reg_2.predict(poly_reg.fit_transform(X_grid)), color = 'blue')\n",
        "plt.title('Energy Consumption vs Time')\n",
        "plt.xlabel('Time')\n",
        "plt.ylabel('Energy Consumption')\n",
        "plt.show()"
      ],
      "execution_count": 8,
      "outputs": [
        {
          "output_type": "display_data",
          "data": {
            "image/png": "[encoded data removed]",
            "text/plain": [
              "<Figure size 432x288 with 1 Axes>"
            ]
          },
          "metadata": {
            "tags": [],
            "needs_background": "light"
          }
        }
      ]
    },
    {
      "cell_type": "code",
      "metadata": {
        "id": "sk2gOJALUHQg",
        "colab_type": "code",
        "colab": {}
      },
      "source": [
        ""
      ],
      "execution_count": 8,
      "outputs": []
    }
  ]
}