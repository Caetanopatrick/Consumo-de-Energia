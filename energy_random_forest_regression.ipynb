{
  "nbformat": 4,
  "nbformat_minor": 0,
  "metadata": {
    "colab": {
      "name": "energy_random_forest_regression.ipynb",
      "provenance": [],
      "collapsed_sections": [],
      "toc_visible": true
    },
    "kernelspec": {
      "name": "python3",
      "display_name": "Python 3"
    }
  },
  "cells": [
    {
      "cell_type": "markdown",
      "metadata": {
        "id": "LeamvpPVXuS_",
        "colab_type": "text"
      },
      "source": [
        "# Random Forest Regression"
      ]
    },
    {
      "cell_type": "markdown",
      "metadata": {
        "id": "O2wvZ7SKXzVC",
        "colab_type": "text"
      },
      "source": [
        "## Importing the libraries"
      ]
    },
    {
      "cell_type": "code",
      "metadata": {
        "id": "PVmESEFZX4Ig",
        "colab_type": "code",
        "colab": {}
      },
      "source": [
        "import numpy as np\n",
        "import matplotlib.pyplot as plt\n",
        "import pandas as pd"
      ],
      "execution_count": null,
      "outputs": []
    },
    {
      "cell_type": "markdown",
      "metadata": {
        "id": "zgbK_F8-X7em",
        "colab_type": "text"
      },
      "source": [
        "## Importing the dataset"
      ]
    },
    {
      "cell_type": "code",
      "metadata": {
        "id": "adBE4tjQX_Bh",
        "colab_type": "code",
        "colab": {}
      },
      "source": [
        "dataset = pd.read_csv('DatasetMonthly3.csv')\n",
        "train = dataset.iloc[0:123,:] \n",
        "test = dataset.iloc[123:-1,:] \n",
        "\n",
        "X_train = np.array(train.iloc[:, 0]).reshape(-1, 1)\n",
        "y_train = np.array(train.iloc[:, 1]).reshape(-1, 1)\n",
        "X_test = np.array(test.iloc[:, 0]).reshape(-1, 1)\n",
        "y_test = np.array(test.iloc[:, 1]).reshape(-1, 1)"
      ],
      "execution_count": null,
      "outputs": []
    },
    {
      "cell_type": "markdown",
      "metadata": {
        "id": "v4S2fyIBYDcu",
        "colab_type": "text"
      },
      "source": [
        "## Training the Random Forest Regression model on the Training set\n"
      ]
    },
    {
      "cell_type": "code",
      "metadata": {
        "id": "o8dOCoJ1YKMc",
        "colab_type": "code",
        "colab": {
          "base_uri": "https://localhost:8080/",
          "height": 190
        },
        "outputId": "f7f5aa97-190f-4e87-da29-96b7f0f70d41"
      },
      "source": [
        "from sklearn.ensemble import RandomForestRegressor\n",
        "regressor = RandomForestRegressor(n_estimators = 10, random_state = 0)\n",
        "regressor.fit(X_train, y_train)"
      ],
      "execution_count": null,
      "outputs": [
        {
          "output_type": "stream",
          "text": [
            "/usr/local/lib/python3.6/dist-packages/ipykernel_launcher.py:3: DataConversionWarning: A column-vector y was passed when a 1d array was expected. Please change the shape of y to (n_samples,), for example using ravel().\n",
            "  This is separate from the ipykernel package so we can avoid doing imports until\n"
          ],
          "name": "stderr"
        },
        {
          "output_type": "execute_result",
          "data": {
            "text/plain": [
              "RandomForestRegressor(bootstrap=True, ccp_alpha=0.0, criterion='mse',\n",
              "                      max_depth=None, max_features='auto', max_leaf_nodes=None,\n",
              "                      max_samples=None, min_impurity_decrease=0.0,\n",
              "                      min_impurity_split=None, min_samples_leaf=1,\n",
              "                      min_samples_split=2, min_weight_fraction_leaf=0.0,\n",
              "                      n_estimators=10, n_jobs=None, oob_score=False,\n",
              "                      random_state=0, verbose=0, warm_start=False)"
            ]
          },
          "metadata": {
            "tags": []
          },
          "execution_count": 6
        }
      ]
    },
    {
      "cell_type": "markdown",
      "metadata": {
        "id": "DM_jh0frOPKE",
        "colab_type": "text"
      },
      "source": [
        "## Predicting the Test set results"
      ]
    },
    {
      "cell_type": "code",
      "metadata": {
        "id": "JGa9ZfM4OTNw",
        "colab_type": "code",
        "colab": {
          "base_uri": "https://localhost:8080/",
          "height": 1000
        },
        "outputId": "7a70b651-a9e9-4b38-8250-6a7398afa96b"
      },
      "source": [
        "y_pred = regressor.predict(X_test)\n",
        "np.set_printoptions(precision=2)\n",
        "print(np.concatenate((y_pred.reshape(len(y_pred),1), y_test.reshape(len(y_test),1)),1))"
      ],
      "execution_count": null,
      "outputs": [
        {
          "output_type": "stream",
          "text": [
            "[[40684646.4  39591854.  ]\n",
            " [40684646.4  39100499.  ]\n",
            " [40684646.4  37726472.88]\n",
            " [40684646.4  37866809.  ]\n",
            " [40684646.4  38550694.  ]\n",
            " [40684646.4  38894976.  ]\n",
            " [40684646.4  40100440.59]\n",
            " [40684646.4  40950726.39]\n",
            " [40684646.4  39838307.03]\n",
            " [40684646.4  40738291.74]\n",
            " [40684646.4  40699842.98]\n",
            " [40684646.4  39735951.44]\n",
            " [40684646.4  39573744.46]\n",
            " [40684646.4  38179073.88]\n",
            " [40684646.4  37240557.1 ]\n",
            " [40684646.4  36792495.92]\n",
            " [40684646.4  37836828.47]\n",
            " [40684646.4  37818309.05]\n",
            " [40684646.4  39252000.52]\n",
            " [40684646.4  39201262.49]\n",
            " [40684646.4  38645417.47]\n",
            " [40684646.4  38376549.11]\n",
            " [40684646.4  38693924.07]\n",
            " [40684646.4  39427420.71]\n",
            " [40684646.4  40248709.4 ]\n",
            " [40684646.4  38626336.87]\n",
            " [40684646.4  37527874.44]\n",
            " [40684646.4  37232054.08]\n",
            " [40684646.4  37668458.76]\n",
            " [40684646.4  38319671.43]\n",
            " [40684646.4  38175488.11]\n",
            " [40684646.4  38728525.32]\n",
            " [40684646.4  38754623.81]\n",
            " [40684646.4  39342315.85]\n",
            " [40684646.4  38813276.99]\n",
            " [40684646.4  40518867.04]\n",
            " [40684646.4  39408438.43]\n",
            " [40684646.4  38127628.99]\n",
            " [40684646.4  38087867.68]\n",
            " [40684646.4  37353355.38]\n",
            " [40684646.4  37838292.59]\n",
            " [40684646.4  38982223.2 ]\n",
            " [40684646.4  39311992.89]\n",
            " [40684646.4  39799807.83]\n",
            " [40684646.4  39577111.84]\n",
            " [40684646.4  40003644.79]\n",
            " [40684646.4  39100842.44]\n",
            " [40684646.4  41036995.6 ]\n",
            " [40684646.4  40622115.05]\n",
            " [40684646.4  39192049.51]\n",
            " [40684646.4  38134883.58]\n",
            " [40684646.4  38438004.92]\n",
            " [40684646.4  38939067.05]\n",
            " [40684646.4  38961360.65]\n",
            " [40684646.4  40321034.99]\n",
            " [40684646.4  40303503.09]\n",
            " [40684646.4  39766608.46]\n",
            " [40684646.4  41631607.05]\n",
            " [40684646.4  41195735.58]\n",
            " [40684646.4  40982099.  ]\n",
            " [40684646.4  39570709.74]\n",
            " [40684646.4  40498880.32]]\n"
          ],
          "name": "stdout"
        }
      ]
    },
    {
      "cell_type": "markdown",
      "metadata": {
        "id": "Cd8VZM5POWXN",
        "colab_type": "text"
      },
      "source": [
        "## Evaluating the Model Performance"
      ]
    },
    {
      "cell_type": "code",
      "metadata": {
        "id": "a7y1rXlfOZJo",
        "colab_type": "code",
        "colab": {
          "base_uri": "https://localhost:8080/",
          "height": 51
        },
        "outputId": "0bf19012-ec3b-498a-ee4d-22981c7de1bc"
      },
      "source": [
        "from sklearn.metrics import r2_score\n",
        "from sklearn.metrics import mean_squared_error\n",
        "import math\n",
        "print(r2_score(y_test, y_pred))\n",
        "print(math.sqrt(mean_squared_error(y_test, y_pred)))"
      ],
      "execution_count": null,
      "outputs": [
        {
          "output_type": "stream",
          "text": [
            "-1.9290821803430096\n",
            "1917374.9756688718\n"
          ],
          "name": "stdout"
        }
      ]
    },
    {
      "cell_type": "markdown",
      "metadata": {
        "id": "bnJK_iRIRZUI",
        "colab_type": "text"
      },
      "source": [
        "## Visualising the Random Forest results (for higher resolution and smoother curve)"
      ]
    },
    {
      "cell_type": "code",
      "metadata": {
        "id": "x5Fq8IMcNjtX",
        "colab_type": "code",
        "colab": {
          "base_uri": "https://localhost:8080/",
          "height": 295
        },
        "outputId": "bb7c3d23-8a9e-44ff-9a69-7f81721e7a7d"
      },
      "source": [
        "X_grid = np.arange(min(X_test), max(X_test), 0.01)\n",
        "X_grid = X_grid.reshape((len(X_grid), 1))\n",
        "plt.scatter(X_test, y_test, color = 'red')\n",
        "plt.plot(X_grid, regressor.predict(X_grid), color = 'blue')\n",
        "plt.title('Energy Consumption vs Time')\n",
        "plt.xlabel('Time')\n",
        "plt.ylabel('Energy Consumption')\n",
        "plt.show()"
      ],
      "execution_count": null,
      "outputs": [
        {
          "output_type": "display_data",
          "data": {
            "image/png": "[encoded data removed]",
            "text/plain": [
              "<Figure size 432x288 with 1 Axes>"
            ]
          },
          "metadata": {
            "tags": [],
            "needs_background": "light"
          }
        }
      ]
    },
    {
      "cell_type": "code",
      "metadata": {
        "id": "GgIkgPb-U5AB",
        "colab_type": "code",
        "colab": {}
      },
      "source": [
        ""
      ],
      "execution_count": null,
      "outputs": []
    }
  ]
}