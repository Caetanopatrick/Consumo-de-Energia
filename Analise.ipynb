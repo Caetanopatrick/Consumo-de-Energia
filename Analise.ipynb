{
 "cells": [
  {
   "cell_type": "markdown",
   "metadata": {},
   "source": [
    "Começo importando as bibliotecas necessárias"
   ]
  },
  {
   "cell_type": "code",
   "execution_count": 19,
   "metadata": {
    "collapsed": true
   },
   "outputs": [],
   "source": [
    "import pandas as pd\n",
    "import matplotlib as plt\n",
    "%matplotlib inline"
   ]
  },
  {
   "cell_type": "markdown",
   "metadata": {},
   "source": [
    "Sobre o dataset:\n",
    "\n",
    "data: Datas mensais de 2005 a Junho de 2019\n",
    "\n",
    "consumo_total: Consumo total de energia energia elétrica na rede (MWh), mes a mes, segundo a EPE\n",
    "\n",
    "consumo_total_YoY: Diferença percentual mês a mês calculada entre o mês atual e o mesmo mês do ano anterior.\n",
    "\n",
    "pib_YoY : Dados trimestrais do crescimento do PIB, em relação ao mesmo mês do ano anterior, segundo o IPEA, que foram triplicados para cada mês do trimestre.\n",
    "\n",
    "pesquisa_Industrial: Diferença percentual mês a mês calculada entre o mês atual e o mesmo mês do ano anterior. Com base na pesquisa industrial mensal, divulgada pelo IBGE.\n",
    "\n"
   ]
  },
  {
   "cell_type": "code",
   "execution_count": 60,
   "metadata": {
    "collapsed": true
   },
   "outputs": [],
   "source": [
    "energia = pd.read_csv(r'C:\\Users\\caeta\\Desktop\\PIBITI\\baseTrabalhada1609.csv', encoding = 'UTF-8',sep = \";\")"
   ]
  },
  {
   "cell_type": "code",
   "execution_count": 61,
   "metadata": {
    "collapsed": false
   },
   "outputs": [
    {
     "data": {
      "text/plain": [
       "data                          Jan/05\n",
       "consumo_total          28,375,437.44\n",
       "consumo_total_YoY               5.18\n",
       "pib_YoY                         4.18\n",
       "pesquisa_Industrial          8.63262\n",
       "Name: 0, dtype: object"
      ]
     },
     "execution_count": 61,
     "metadata": {},
     "output_type": "execute_result"
    }
   ],
   "source": [
    "#Checando as primeiras informações\n",
    "energia.iloc[0]"
   ]
  },
  {
   "cell_type": "code",
   "execution_count": 62,
   "metadata": {
    "collapsed": false
   },
   "outputs": [
    {
     "data": {
      "text/html": [
       "<div>\n",
       "<style scoped>\n",
       "    .dataframe tbody tr th:only-of-type {\n",
       "        vertical-align: middle;\n",
       "    }\n",
       "\n",
       "    .dataframe tbody tr th {\n",
       "        vertical-align: top;\n",
       "    }\n",
       "\n",
       "    .dataframe thead th {\n",
       "        text-align: right;\n",
       "    }\n",
       "</style>\n",
       "<table border=\"1\" class=\"dataframe\">\n",
       "  <thead>\n",
       "    <tr style=\"text-align: right;\">\n",
       "      <th></th>\n",
       "      <th>data</th>\n",
       "      <th>consumo_total</th>\n",
       "      <th>consumo_total_YoY</th>\n",
       "      <th>pib_YoY</th>\n",
       "      <th>pesquisa_Industrial</th>\n",
       "    </tr>\n",
       "  </thead>\n",
       "  <tbody>\n",
       "    <tr>\n",
       "      <th>0</th>\n",
       "      <td>Jan/05</td>\n",
       "      <td>28,375,437.44</td>\n",
       "      <td>5.18</td>\n",
       "      <td>4.18</td>\n",
       "      <td>8.632619</td>\n",
       "    </tr>\n",
       "    <tr>\n",
       "      <th>1</th>\n",
       "      <td>Feb/05</td>\n",
       "      <td>27,838,480.97</td>\n",
       "      <td>5.02</td>\n",
       "      <td>4.18</td>\n",
       "      <td>7.436657</td>\n",
       "    </tr>\n",
       "    <tr>\n",
       "      <th>2</th>\n",
       "      <td>Mar/05</td>\n",
       "      <td>28,598,631.51</td>\n",
       "      <td>4.82</td>\n",
       "      <td>4.18</td>\n",
       "      <td>6.829897</td>\n",
       "    </tr>\n",
       "    <tr>\n",
       "      <th>3</th>\n",
       "      <td>Apr/05</td>\n",
       "      <td>29,355,501.91</td>\n",
       "      <td>4.67</td>\n",
       "      <td>4.47</td>\n",
       "      <td>6.036410</td>\n",
       "    </tr>\n",
       "    <tr>\n",
       "      <th>4</th>\n",
       "      <td>May/05</td>\n",
       "      <td>28,482,150.61</td>\n",
       "      <td>4.54</td>\n",
       "      <td>4.47</td>\n",
       "      <td>8.603845</td>\n",
       "    </tr>\n",
       "  </tbody>\n",
       "</table>\n",
       "</div>"
      ],
      "text/plain": [
       "     data  consumo_total  consumo_total_YoY  pib_YoY  pesquisa_Industrial\n",
       "0  Jan/05  28,375,437.44               5.18     4.18             8.632619\n",
       "1  Feb/05  27,838,480.97               5.02     4.18             7.436657\n",
       "2  Mar/05  28,598,631.51               4.82     4.18             6.829897\n",
       "3  Apr/05  29,355,501.91               4.67     4.47             6.036410\n",
       "4  May/05  28,482,150.61               4.54     4.47             8.603845"
      ]
     },
     "execution_count": 62,
     "metadata": {},
     "output_type": "execute_result"
    }
   ],
   "source": [
    "#As linhas do começo\n",
    "energia.head()"
   ]
  },
  {
   "cell_type": "code",
   "execution_count": 63,
   "metadata": {
    "collapsed": false
   },
   "outputs": [
    {
     "data": {
      "text/html": [
       "<div>\n",
       "<style scoped>\n",
       "    .dataframe tbody tr th:only-of-type {\n",
       "        vertical-align: middle;\n",
       "    }\n",
       "\n",
       "    .dataframe tbody tr th {\n",
       "        vertical-align: top;\n",
       "    }\n",
       "\n",
       "    .dataframe thead th {\n",
       "        text-align: right;\n",
       "    }\n",
       "</style>\n",
       "<table border=\"1\" class=\"dataframe\">\n",
       "  <thead>\n",
       "    <tr style=\"text-align: right;\">\n",
       "      <th></th>\n",
       "      <th>data</th>\n",
       "      <th>consumo_total</th>\n",
       "      <th>consumo_total_YoY</th>\n",
       "      <th>pib_YoY</th>\n",
       "      <th>pesquisa_Industrial</th>\n",
       "    </tr>\n",
       "  </thead>\n",
       "  <tbody>\n",
       "    <tr>\n",
       "      <th>169</th>\n",
       "      <td>Feb/19</td>\n",
       "      <td>41,195,735.58</td>\n",
       "      <td>5.36</td>\n",
       "      <td>0.46</td>\n",
       "      <td>-0.847210</td>\n",
       "    </tr>\n",
       "    <tr>\n",
       "      <th>170</th>\n",
       "      <td>Mar/19</td>\n",
       "      <td>40,982,099.00</td>\n",
       "      <td>-0.13</td>\n",
       "      <td>0.46</td>\n",
       "      <td>-3.248994</td>\n",
       "    </tr>\n",
       "    <tr>\n",
       "      <th>171</th>\n",
       "      <td>Apr/19</td>\n",
       "      <td>39,570,709.74</td>\n",
       "      <td>-2.59</td>\n",
       "      <td>1.01</td>\n",
       "      <td>-1.436782</td>\n",
       "    </tr>\n",
       "    <tr>\n",
       "      <th>172</th>\n",
       "      <td>May/19</td>\n",
       "      <td>40,498,880.32</td>\n",
       "      <td>3.33</td>\n",
       "      <td>1.01</td>\n",
       "      <td>15.421035</td>\n",
       "    </tr>\n",
       "    <tr>\n",
       "      <th>173</th>\n",
       "      <td>Jun/19</td>\n",
       "      <td>38,278,742.92</td>\n",
       "      <td>0.38</td>\n",
       "      <td>1.01</td>\n",
       "      <td>-3.280091</td>\n",
       "    </tr>\n",
       "  </tbody>\n",
       "</table>\n",
       "</div>"
      ],
      "text/plain": [
       "       data  consumo_total  consumo_total_YoY  pib_YoY  pesquisa_Industrial\n",
       "169  Feb/19  41,195,735.58               5.36     0.46            -0.847210\n",
       "170  Mar/19  40,982,099.00              -0.13     0.46            -3.248994\n",
       "171  Apr/19  39,570,709.74              -2.59     1.01            -1.436782\n",
       "172  May/19  40,498,880.32               3.33     1.01            15.421035\n",
       "173  Jun/19  38,278,742.92               0.38     1.01            -3.280091"
      ]
     },
     "execution_count": 63,
     "metadata": {},
     "output_type": "execute_result"
    }
   ],
   "source": [
    "#As do final\n",
    "energia.tail()"
   ]
  },
  {
   "cell_type": "code",
   "execution_count": 64,
   "metadata": {
    "collapsed": false
   },
   "outputs": [
    {
     "data": {
      "text/html": [
       "<div>\n",
       "<style scoped>\n",
       "    .dataframe tbody tr th:only-of-type {\n",
       "        vertical-align: middle;\n",
       "    }\n",
       "\n",
       "    .dataframe tbody tr th {\n",
       "        vertical-align: top;\n",
       "    }\n",
       "\n",
       "    .dataframe thead th {\n",
       "        text-align: right;\n",
       "    }\n",
       "</style>\n",
       "<table border=\"1\" class=\"dataframe\">\n",
       "  <thead>\n",
       "    <tr style=\"text-align: right;\">\n",
       "      <th></th>\n",
       "      <th>consumo_total_YoY</th>\n",
       "      <th>pib_YoY</th>\n",
       "      <th>pesquisa_Industrial</th>\n",
       "    </tr>\n",
       "  </thead>\n",
       "  <tbody>\n",
       "    <tr>\n",
       "      <th>count</th>\n",
       "      <td>174.000000</td>\n",
       "      <td>174.000000</td>\n",
       "      <td>174.000000</td>\n",
       "    </tr>\n",
       "    <tr>\n",
       "      <th>mean</th>\n",
       "      <td>2.611552</td>\n",
       "      <td>2.139828</td>\n",
       "      <td>0.853245</td>\n",
       "    </tr>\n",
       "    <tr>\n",
       "      <th>std</th>\n",
       "      <td>3.238387</td>\n",
       "      <td>3.375296</td>\n",
       "      <td>8.949336</td>\n",
       "    </tr>\n",
       "    <tr>\n",
       "      <th>min</th>\n",
       "      <td>-5.800000</td>\n",
       "      <td>-5.520000</td>\n",
       "      <td>-20.487433</td>\n",
       "    </tr>\n",
       "    <tr>\n",
       "      <th>25%</th>\n",
       "      <td>0.457500</td>\n",
       "      <td>0.140000</td>\n",
       "      <td>-4.983073</td>\n",
       "    </tr>\n",
       "    <tr>\n",
       "      <th>50%</th>\n",
       "      <td>2.825000</td>\n",
       "      <td>2.225000</td>\n",
       "      <td>2.726688</td>\n",
       "    </tr>\n",
       "    <tr>\n",
       "      <th>75%</th>\n",
       "      <td>4.662500</td>\n",
       "      <td>4.700000</td>\n",
       "      <td>7.145429</td>\n",
       "    </tr>\n",
       "    <tr>\n",
       "      <th>max</th>\n",
       "      <td>11.250000</td>\n",
       "      <td>9.210000</td>\n",
       "      <td>28.448276</td>\n",
       "    </tr>\n",
       "  </tbody>\n",
       "</table>\n",
       "</div>"
      ],
      "text/plain": [
       "       consumo_total_YoY     pib_YoY  pesquisa_Industrial\n",
       "count         174.000000  174.000000           174.000000\n",
       "mean            2.611552    2.139828             0.853245\n",
       "std             3.238387    3.375296             8.949336\n",
       "min            -5.800000   -5.520000           -20.487433\n",
       "25%             0.457500    0.140000            -4.983073\n",
       "50%             2.825000    2.225000             2.726688\n",
       "75%             4.662500    4.700000             7.145429\n",
       "max            11.250000    9.210000            28.448276"
      ]
     },
     "execution_count": 64,
     "metadata": {},
     "output_type": "execute_result"
    }
   ],
   "source": [
    "#Using describe to find out more about the dataset\n",
    "energia.describe()"
   ]
  },
  {
   "cell_type": "code",
   "execution_count": 65,
   "metadata": {
    "collapsed": false
   },
   "outputs": [
    {
     "data": {
      "text/plain": [
       "<matplotlib.axes._subplots.AxesSubplot at 0x20160834588>"
      ]
     },
     "execution_count": 65,
     "metadata": {},
     "output_type": "execute_result"
    },
    {
     "data": {
      "image/png": "[encoded data removed]",
      "text/plain": [
       "<Figure size 432x288 with 1 Axes>"
      ]
     },
     "metadata": {
      "needs_background": "light"
     },
     "output_type": "display_data"
    }
   ],
   "source": [
    "energia.plot(x='consumo_total_YoY', y='pib_YoY', kind='scatter')\n",
    "\n"
   ]
  },
  {
   "cell_type": "code",
   "execution_count": 66,
   "metadata": {},
   "outputs": [],
   "source": [
    "df = energia[['consumo_total_YoY', 'pib_YoY']]"
   ]
  },
  {
   "cell_type": "code",
   "execution_count": 67,
   "metadata": {},
   "outputs": [
    {
     "data": {
      "text/html": [
       "<div>\n",
       "<style scoped>\n",
       "    .dataframe tbody tr th:only-of-type {\n",
       "        vertical-align: middle;\n",
       "    }\n",
       "\n",
       "    .dataframe tbody tr th {\n",
       "        vertical-align: top;\n",
       "    }\n",
       "\n",
       "    .dataframe thead th {\n",
       "        text-align: right;\n",
       "    }\n",
       "</style>\n",
       "<table border=\"1\" class=\"dataframe\">\n",
       "  <thead>\n",
       "    <tr style=\"text-align: right;\">\n",
       "      <th></th>\n",
       "      <th>consumo_total_YoY</th>\n",
       "      <th>pib_YoY</th>\n",
       "    </tr>\n",
       "  </thead>\n",
       "  <tbody>\n",
       "    <tr>\n",
       "      <th>consumo_total_YoY</th>\n",
       "      <td>1.000000</td>\n",
       "      <td>0.807342</td>\n",
       "    </tr>\n",
       "    <tr>\n",
       "      <th>pib_YoY</th>\n",
       "      <td>0.807342</td>\n",
       "      <td>1.000000</td>\n",
       "    </tr>\n",
       "  </tbody>\n",
       "</table>\n",
       "</div>"
      ],
      "text/plain": [
       "                   consumo_total_YoY   pib_YoY\n",
       "consumo_total_YoY           1.000000  0.807342\n",
       "pib_YoY                     0.807342  1.000000"
      ]
     },
     "execution_count": 67,
     "metadata": {},
     "output_type": "execute_result"
    }
   ],
   "source": [
    "df.corr(method ='pearson')"
   ]
  },
  {
   "cell_type": "markdown",
   "metadata": {},
   "source": [
    "Um indíce maior que 0.7 indica correlação forte entre as duas séries"
   ]
  },
  {
   "cell_type": "code",
   "execution_count": 68,
   "metadata": {},
   "outputs": [
    {
     "data": {
      "text/plain": [
       "<matplotlib.axes._subplots.AxesSubplot at 0x20160890278>"
      ]
     },
     "execution_count": 68,
     "metadata": {},
     "output_type": "execute_result"
    },
    {
     "data": {
      "image/png": "[encoded data removed]",
      "text/plain": [
       "<Figure size 432x288 with 1 Axes>"
      ]
     },
     "metadata": {
      "needs_background": "light"
     },
     "output_type": "display_data"
    }
   ],
   "source": [
    "energia.plot(x='data', y= 'consumo_total_YoY', kind = 'line')"
   ]
  },
  {
   "cell_type": "code",
   "execution_count": 69,
   "metadata": {},
   "outputs": [
    {
     "data": {
      "text/plain": [
       "<matplotlib.axes._subplots.AxesSubplot at 0x201608f9358>"
      ]
     },
     "execution_count": 69,
     "metadata": {},
     "output_type": "execute_result"
    },
    {
     "data": {
      "image/png": "[encoded data removed]",
      "text/plain": [
       "<Figure size 432x288 with 1 Axes>"
      ]
     },
     "metadata": {
      "needs_background": "light"
     },
     "output_type": "display_data"
    }
   ],
   "source": [
    "energia.plot(x='data', y= 'pib_YoY', kind = 'line')"
   ]
  },
  {
   "cell_type": "markdown",
   "metadata": {},
   "source": [
    "Pode-se perceber visualmente a semelhança entre os dois gráficos"
   ]
  },
  {
   "cell_type": "markdown",
   "metadata": {},
   "source": [
    "Agora que ja confirmamos a correlação positiva entre o consumo de energia e o crescimento do PIB podemos analisar as categorias:"
   ]
  },
  {
   "cell_type": "code",
   "execution_count": 70,
   "metadata": {},
   "outputs": [],
   "source": [
    "categorias = pd.read_csv(r'C:\\Users\\caeta\\Desktop\\PIBITI\\baseCategorias1609.csv', encoding = 'UTF-8',sep = \";\")"
   ]
  },
  {
   "cell_type": "code",
   "execution_count": 71,
   "metadata": {},
   "outputs": [
    {
     "data": {
      "text/html": [
       "<div>\n",
       "<style scoped>\n",
       "    .dataframe tbody tr th:only-of-type {\n",
       "        vertical-align: middle;\n",
       "    }\n",
       "\n",
       "    .dataframe tbody tr th {\n",
       "        vertical-align: top;\n",
       "    }\n",
       "\n",
       "    .dataframe thead th {\n",
       "        text-align: right;\n",
       "    }\n",
       "</style>\n",
       "<table border=\"1\" class=\"dataframe\">\n",
       "  <thead>\n",
       "    <tr style=\"text-align: right;\">\n",
       "      <th></th>\n",
       "      <th>data</th>\n",
       "      <th>consumo_Residencial</th>\n",
       "      <th>consumo_Industrial</th>\n",
       "      <th>consumo_Comercial</th>\n",
       "      <th>consumo_Outros</th>\n",
       "      <th>consumo_Cativo</th>\n",
       "      <th>diferenca_YoY_Residencial</th>\n",
       "      <th>diferenca_YoY_Industrial</th>\n",
       "      <th>diferenca_YoY_Comercial</th>\n",
       "      <th>diferenca_YoY_Outros</th>\n",
       "      <th>diferenca_YoY_Cativo</th>\n",
       "      <th>pib_YoY</th>\n",
       "      <th>pesquisa_Industrial</th>\n",
       "    </tr>\n",
       "  </thead>\n",
       "  <tbody>\n",
       "    <tr>\n",
       "      <th>0</th>\n",
       "      <td>Jan/05</td>\n",
       "      <td>7,118,537.83</td>\n",
       "      <td>12,650,753.12</td>\n",
       "      <td>4,492,543.97</td>\n",
       "      <td>4,113,602.52</td>\n",
       "      <td>22,597,880.58</td>\n",
       "      <td>4.98</td>\n",
       "      <td>5.35</td>\n",
       "      <td>5.84</td>\n",
       "      <td>4.30</td>\n",
       "      <td>-5.87</td>\n",
       "      <td>4.18</td>\n",
       "      <td>8.632619</td>\n",
       "    </tr>\n",
       "    <tr>\n",
       "      <th>1</th>\n",
       "      <td>Feb/05</td>\n",
       "      <td>6,758,333.18</td>\n",
       "      <td>12,746,539.93</td>\n",
       "      <td>4,365,606.14</td>\n",
       "      <td>3,968,001.72</td>\n",
       "      <td>21,731,515.36</td>\n",
       "      <td>5.12</td>\n",
       "      <td>4.98</td>\n",
       "      <td>5.26</td>\n",
       "      <td>4.69</td>\n",
       "      <td>-8.05</td>\n",
       "      <td>4.18</td>\n",
       "      <td>7.436657</td>\n",
       "    </tr>\n",
       "    <tr>\n",
       "      <th>2</th>\n",
       "      <td>Mar/05</td>\n",
       "      <td>6,865,215.67</td>\n",
       "      <td>13,065,261.41</td>\n",
       "      <td>4,552,519.80</td>\n",
       "      <td>4,115,634.63</td>\n",
       "      <td>22,328,433.92</td>\n",
       "      <td>4.01</td>\n",
       "      <td>3.62</td>\n",
       "      <td>8.29</td>\n",
       "      <td>6.30</td>\n",
       "      <td>-7.77</td>\n",
       "      <td>4.18</td>\n",
       "      <td>6.829897</td>\n",
       "    </tr>\n",
       "    <tr>\n",
       "      <th>3</th>\n",
       "      <td>Apr/05</td>\n",
       "      <td>7,131,738.16</td>\n",
       "      <td>13,373,988.88</td>\n",
       "      <td>4,687,079.82</td>\n",
       "      <td>4,162,695.05</td>\n",
       "      <td>22,806,152.80</td>\n",
       "      <td>4.74</td>\n",
       "      <td>3.78</td>\n",
       "      <td>5.40</td>\n",
       "      <td>6.66</td>\n",
       "      <td>-8.08</td>\n",
       "      <td>4.47</td>\n",
       "      <td>6.036410</td>\n",
       "    </tr>\n",
       "    <tr>\n",
       "      <th>4</th>\n",
       "      <td>May/05</td>\n",
       "      <td>6,718,147.45</td>\n",
       "      <td>13,292,319.64</td>\n",
       "      <td>4,377,603.69</td>\n",
       "      <td>4,094,079.83</td>\n",
       "      <td>21,916,975.72</td>\n",
       "      <td>3.72</td>\n",
       "      <td>3.58</td>\n",
       "      <td>6.62</td>\n",
       "      <td>6.93</td>\n",
       "      <td>-8.32</td>\n",
       "      <td>4.47</td>\n",
       "      <td>8.603845</td>\n",
       "    </tr>\n",
       "  </tbody>\n",
       "</table>\n",
       "</div>"
      ],
      "text/plain": [
       "     data consumo_Residencial consumo_Industrial consumo_Comercial  \\\n",
       "0  Jan/05        7,118,537.83      12,650,753.12      4,492,543.97   \n",
       "1  Feb/05        6,758,333.18      12,746,539.93      4,365,606.14   \n",
       "2  Mar/05        6,865,215.67      13,065,261.41      4,552,519.80   \n",
       "3  Apr/05        7,131,738.16      13,373,988.88      4,687,079.82   \n",
       "4  May/05        6,718,147.45      13,292,319.64      4,377,603.69   \n",
       "\n",
       "  consumo_Outros consumo_Cativo  diferenca_YoY_Residencial  \\\n",
       "0   4,113,602.52  22,597,880.58                       4.98   \n",
       "1   3,968,001.72  21,731,515.36                       5.12   \n",
       "2   4,115,634.63  22,328,433.92                       4.01   \n",
       "3   4,162,695.05  22,806,152.80                       4.74   \n",
       "4   4,094,079.83  21,916,975.72                       3.72   \n",
       "\n",
       "   diferenca_YoY_Industrial  diferenca_YoY_Comercial  diferenca_YoY_Outros  \\\n",
       "0                      5.35                     5.84                  4.30   \n",
       "1                      4.98                     5.26                  4.69   \n",
       "2                      3.62                     8.29                  6.30   \n",
       "3                      3.78                     5.40                  6.66   \n",
       "4                      3.58                     6.62                  6.93   \n",
       "\n",
       "   diferenca_YoY_Cativo  pib_YoY  pesquisa_Industrial  \n",
       "0                 -5.87     4.18             8.632619  \n",
       "1                 -8.05     4.18             7.436657  \n",
       "2                 -7.77     4.18             6.829897  \n",
       "3                 -8.08     4.47             6.036410  \n",
       "4                 -8.32     4.47             8.603845  "
      ]
     },
     "execution_count": 71,
     "metadata": {},
     "output_type": "execute_result"
    }
   ],
   "source": [
    "categorias.head()"
   ]
  },
  {
   "cell_type": "code",
   "execution_count": 72,
   "metadata": {},
   "outputs": [
    {
     "data": {
      "text/html": [
       "<div>\n",
       "<style scoped>\n",
       "    .dataframe tbody tr th:only-of-type {\n",
       "        vertical-align: middle;\n",
       "    }\n",
       "\n",
       "    .dataframe tbody tr th {\n",
       "        vertical-align: top;\n",
       "    }\n",
       "\n",
       "    .dataframe thead th {\n",
       "        text-align: right;\n",
       "    }\n",
       "</style>\n",
       "<table border=\"1\" class=\"dataframe\">\n",
       "  <thead>\n",
       "    <tr style=\"text-align: right;\">\n",
       "      <th></th>\n",
       "      <th>diferenca_YoY_Residencial</th>\n",
       "      <th>diferenca_YoY_Industrial</th>\n",
       "      <th>diferenca_YoY_Comercial</th>\n",
       "      <th>diferenca_YoY_Outros</th>\n",
       "      <th>diferenca_YoY_Cativo</th>\n",
       "      <th>pib_YoY</th>\n",
       "      <th>pesquisa_Industrial</th>\n",
       "    </tr>\n",
       "  </thead>\n",
       "  <tbody>\n",
       "    <tr>\n",
       "      <th>count</th>\n",
       "      <td>174.000000</td>\n",
       "      <td>174.000000</td>\n",
       "      <td>174.000000</td>\n",
       "      <td>174.000000</td>\n",
       "      <td>174.000000</td>\n",
       "      <td>174.000000</td>\n",
       "      <td>174.000000</td>\n",
       "    </tr>\n",
       "    <tr>\n",
       "      <th>mean</th>\n",
       "      <td>4.110287</td>\n",
       "      <td>0.672184</td>\n",
       "      <td>4.292989</td>\n",
       "      <td>3.687874</td>\n",
       "      <td>0.903103</td>\n",
       "      <td>2.139828</td>\n",
       "      <td>0.853245</td>\n",
       "    </tr>\n",
       "    <tr>\n",
       "      <th>std</th>\n",
       "      <td>3.373942</td>\n",
       "      <td>5.199951</td>\n",
       "      <td>3.937800</td>\n",
       "      <td>2.941999</td>\n",
       "      <td>4.366946</td>\n",
       "      <td>3.375296</td>\n",
       "      <td>8.949336</td>\n",
       "    </tr>\n",
       "    <tr>\n",
       "      <th>min</th>\n",
       "      <td>-5.800000</td>\n",
       "      <td>-13.550000</td>\n",
       "      <td>-7.860000</td>\n",
       "      <td>-3.740000</td>\n",
       "      <td>-10.370000</td>\n",
       "      <td>-5.520000</td>\n",
       "      <td>-20.487433</td>\n",
       "    </tr>\n",
       "    <tr>\n",
       "      <th>25%</th>\n",
       "      <td>2.300000</td>\n",
       "      <td>-2.115000</td>\n",
       "      <td>1.965000</td>\n",
       "      <td>1.770000</td>\n",
       "      <td>-1.950000</td>\n",
       "      <td>0.140000</td>\n",
       "      <td>-4.983073</td>\n",
       "    </tr>\n",
       "    <tr>\n",
       "      <th>50%</th>\n",
       "      <td>4.410000</td>\n",
       "      <td>1.095000</td>\n",
       "      <td>4.710000</td>\n",
       "      <td>3.825000</td>\n",
       "      <td>1.180000</td>\n",
       "      <td>2.225000</td>\n",
       "      <td>2.726688</td>\n",
       "    </tr>\n",
       "    <tr>\n",
       "      <th>75%</th>\n",
       "      <td>6.357500</td>\n",
       "      <td>2.995000</td>\n",
       "      <td>6.947500</td>\n",
       "      <td>5.672500</td>\n",
       "      <td>4.245000</td>\n",
       "      <td>4.700000</td>\n",
       "      <td>7.145429</td>\n",
       "    </tr>\n",
       "    <tr>\n",
       "      <th>max</th>\n",
       "      <td>13.410000</td>\n",
       "      <td>15.790000</td>\n",
       "      <td>16.610000</td>\n",
       "      <td>13.280000</td>\n",
       "      <td>12.230000</td>\n",
       "      <td>9.210000</td>\n",
       "      <td>28.448276</td>\n",
       "    </tr>\n",
       "  </tbody>\n",
       "</table>\n",
       "</div>"
      ],
      "text/plain": [
       "       diferenca_YoY_Residencial  diferenca_YoY_Industrial  \\\n",
       "count                 174.000000                174.000000   \n",
       "mean                    4.110287                  0.672184   \n",
       "std                     3.373942                  5.199951   \n",
       "min                    -5.800000                -13.550000   \n",
       "25%                     2.300000                 -2.115000   \n",
       "50%                     4.410000                  1.095000   \n",
       "75%                     6.357500                  2.995000   \n",
       "max                    13.410000                 15.790000   \n",
       "\n",
       "       diferenca_YoY_Comercial  diferenca_YoY_Outros  diferenca_YoY_Cativo  \\\n",
       "count               174.000000            174.000000            174.000000   \n",
       "mean                  4.292989              3.687874              0.903103   \n",
       "std                   3.937800              2.941999              4.366946   \n",
       "min                  -7.860000             -3.740000            -10.370000   \n",
       "25%                   1.965000              1.770000             -1.950000   \n",
       "50%                   4.710000              3.825000              1.180000   \n",
       "75%                   6.947500              5.672500              4.245000   \n",
       "max                  16.610000             13.280000             12.230000   \n",
       "\n",
       "          pib_YoY  pesquisa_Industrial  \n",
       "count  174.000000           174.000000  \n",
       "mean     2.139828             0.853245  \n",
       "std      3.375296             8.949336  \n",
       "min     -5.520000           -20.487433  \n",
       "25%      0.140000            -4.983073  \n",
       "50%      2.225000             2.726688  \n",
       "75%      4.700000             7.145429  \n",
       "max      9.210000            28.448276  "
      ]
     },
     "execution_count": 72,
     "metadata": {},
     "output_type": "execute_result"
    }
   ],
   "source": [
    "categorias.describe()"
   ]
  },
  {
   "cell_type": "code",
   "execution_count": 73,
   "metadata": {},
   "outputs": [
    {
     "data": {
      "text/plain": [
       "<matplotlib.axes._subplots.AxesSubplot at 0x2016098d240>"
      ]
     },
     "execution_count": 73,
     "metadata": {},
     "output_type": "execute_result"
    },
    {
     "data": {
      "image/png": "[encoded data removed]",
      "text/plain": [
       "<Figure size 432x288 with 1 Axes>"
      ]
     },
     "metadata": {
      "needs_background": "light"
     },
     "output_type": "display_data"
    }
   ],
   "source": [
    "categorias.plot(x='diferenca_YoY_Residencial', y= 'pib_YoY', kind='scatter')"
   ]
  },
  {
   "cell_type": "code",
   "execution_count": 74,
   "metadata": {},
   "outputs": [],
   "source": [
    "df2 = categorias[['diferenca_YoY_Residencial', 'pib_YoY']]"
   ]
  },
  {
   "cell_type": "code",
   "execution_count": 75,
   "metadata": {},
   "outputs": [
    {
     "data": {
      "text/html": [
       "<div>\n",
       "<style scoped>\n",
       "    .dataframe tbody tr th:only-of-type {\n",
       "        vertical-align: middle;\n",
       "    }\n",
       "\n",
       "    .dataframe tbody tr th {\n",
       "        vertical-align: top;\n",
       "    }\n",
       "\n",
       "    .dataframe thead th {\n",
       "        text-align: right;\n",
       "    }\n",
       "</style>\n",
       "<table border=\"1\" class=\"dataframe\">\n",
       "  <thead>\n",
       "    <tr style=\"text-align: right;\">\n",
       "      <th></th>\n",
       "      <th>diferenca_YoY_Residencial</th>\n",
       "      <th>pib_YoY</th>\n",
       "    </tr>\n",
       "  </thead>\n",
       "  <tbody>\n",
       "    <tr>\n",
       "      <th>diferenca_YoY_Residencial</th>\n",
       "      <td>1.000000</td>\n",
       "      <td>0.444024</td>\n",
       "    </tr>\n",
       "    <tr>\n",
       "      <th>pib_YoY</th>\n",
       "      <td>0.444024</td>\n",
       "      <td>1.000000</td>\n",
       "    </tr>\n",
       "  </tbody>\n",
       "</table>\n",
       "</div>"
      ],
      "text/plain": [
       "                           diferenca_YoY_Residencial   pib_YoY\n",
       "diferenca_YoY_Residencial                   1.000000  0.444024\n",
       "pib_YoY                                     0.444024  1.000000"
      ]
     },
     "execution_count": 75,
     "metadata": {},
     "output_type": "execute_result"
    }
   ],
   "source": [
    "df2.corr(method = 'pearson')"
   ]
  },
  {
   "cell_type": "markdown",
   "metadata": {},
   "source": [
    "Podemos verificar que para o consumo residencial a correlação é baixa."
   ]
  },
  {
   "cell_type": "code",
   "execution_count": 76,
   "metadata": {},
   "outputs": [
    {
     "data": {
      "text/html": [
       "<div>\n",
       "<style scoped>\n",
       "    .dataframe tbody tr th:only-of-type {\n",
       "        vertical-align: middle;\n",
       "    }\n",
       "\n",
       "    .dataframe tbody tr th {\n",
       "        vertical-align: top;\n",
       "    }\n",
       "\n",
       "    .dataframe thead th {\n",
       "        text-align: right;\n",
       "    }\n",
       "</style>\n",
       "<table border=\"1\" class=\"dataframe\">\n",
       "  <thead>\n",
       "    <tr style=\"text-align: right;\">\n",
       "      <th></th>\n",
       "      <th>diferenca_YoY_Industrial</th>\n",
       "      <th>pib_YoY</th>\n",
       "    </tr>\n",
       "  </thead>\n",
       "  <tbody>\n",
       "    <tr>\n",
       "      <th>diferenca_YoY_Industrial</th>\n",
       "      <td>1.000000</td>\n",
       "      <td>0.795534</td>\n",
       "    </tr>\n",
       "    <tr>\n",
       "      <th>pib_YoY</th>\n",
       "      <td>0.795534</td>\n",
       "      <td>1.000000</td>\n",
       "    </tr>\n",
       "  </tbody>\n",
       "</table>\n",
       "</div>"
      ],
      "text/plain": [
       "                          diferenca_YoY_Industrial   pib_YoY\n",
       "diferenca_YoY_Industrial                  1.000000  0.795534\n",
       "pib_YoY                                   0.795534  1.000000"
      ]
     },
     "execution_count": 76,
     "metadata": {},
     "output_type": "execute_result"
    },
    {
     "data": {
      "image/png": "[encoded data removed]",
      "text/plain": [
       "<Figure size 432x288 with 1 Axes>"
      ]
     },
     "metadata": {
      "needs_background": "light"
     },
     "output_type": "display_data"
    }
   ],
   "source": [
    "categorias.plot(x='diferenca_YoY_Industrial', y= 'pib_YoY', kind='scatter')\n",
    "df3 = categorias[['diferenca_YoY_Industrial', 'pib_YoY']]\n",
    "df3.corr(method = 'pearson')"
   ]
  },
  {
   "cell_type": "code",
   "execution_count": 77,
   "metadata": {},
   "outputs": [
    {
     "data": {
      "text/html": [
       "<div>\n",
       "<style scoped>\n",
       "    .dataframe tbody tr th:only-of-type {\n",
       "        vertical-align: middle;\n",
       "    }\n",
       "\n",
       "    .dataframe tbody tr th {\n",
       "        vertical-align: top;\n",
       "    }\n",
       "\n",
       "    .dataframe thead th {\n",
       "        text-align: right;\n",
       "    }\n",
       "</style>\n",
       "<table border=\"1\" class=\"dataframe\">\n",
       "  <thead>\n",
       "    <tr style=\"text-align: right;\">\n",
       "      <th></th>\n",
       "      <th>diferenca_YoY_Comercial</th>\n",
       "      <th>pib_YoY</th>\n",
       "    </tr>\n",
       "  </thead>\n",
       "  <tbody>\n",
       "    <tr>\n",
       "      <th>diferenca_YoY_Comercial</th>\n",
       "      <td>1.000000</td>\n",
       "      <td>0.511406</td>\n",
       "    </tr>\n",
       "    <tr>\n",
       "      <th>pib_YoY</th>\n",
       "      <td>0.511406</td>\n",
       "      <td>1.000000</td>\n",
       "    </tr>\n",
       "  </tbody>\n",
       "</table>\n",
       "</div>"
      ],
      "text/plain": [
       "                         diferenca_YoY_Comercial   pib_YoY\n",
       "diferenca_YoY_Comercial                 1.000000  0.511406\n",
       "pib_YoY                                 0.511406  1.000000"
      ]
     },
     "execution_count": 77,
     "metadata": {},
     "output_type": "execute_result"
    },
    {
     "data": {
      "image/png": "[encoded data removed]",
      "text/plain": [
       "<Figure size 432x288 with 1 Axes>"
      ]
     },
     "metadata": {
      "needs_background": "light"
     },
     "output_type": "display_data"
    }
   ],
   "source": [
    "categorias.plot(x='diferenca_YoY_Comercial', y= 'pib_YoY', kind='scatter')\n",
    "df4 = categorias[['diferenca_YoY_Comercial', 'pib_YoY']]\n",
    "df4.corr(method = 'pearson')"
   ]
  },
  {
   "cell_type": "code",
   "execution_count": 78,
   "metadata": {},
   "outputs": [
    {
     "data": {
      "text/html": [
       "<div>\n",
       "<style scoped>\n",
       "    .dataframe tbody tr th:only-of-type {\n",
       "        vertical-align: middle;\n",
       "    }\n",
       "\n",
       "    .dataframe tbody tr th {\n",
       "        vertical-align: top;\n",
       "    }\n",
       "\n",
       "    .dataframe thead th {\n",
       "        text-align: right;\n",
       "    }\n",
       "</style>\n",
       "<table border=\"1\" class=\"dataframe\">\n",
       "  <thead>\n",
       "    <tr style=\"text-align: right;\">\n",
       "      <th></th>\n",
       "      <th>diferenca_YoY_Outros</th>\n",
       "      <th>pib_YoY</th>\n",
       "    </tr>\n",
       "  </thead>\n",
       "  <tbody>\n",
       "    <tr>\n",
       "      <th>diferenca_YoY_Outros</th>\n",
       "      <td>1.00000</td>\n",
       "      <td>0.40303</td>\n",
       "    </tr>\n",
       "    <tr>\n",
       "      <th>pib_YoY</th>\n",
       "      <td>0.40303</td>\n",
       "      <td>1.00000</td>\n",
       "    </tr>\n",
       "  </tbody>\n",
       "</table>\n",
       "</div>"
      ],
      "text/plain": [
       "                      diferenca_YoY_Outros  pib_YoY\n",
       "diferenca_YoY_Outros               1.00000  0.40303\n",
       "pib_YoY                            0.40303  1.00000"
      ]
     },
     "execution_count": 78,
     "metadata": {},
     "output_type": "execute_result"
    },
    {
     "data": {
      "image/png": "[encoded data removed]",
      "text/plain": [
       "<Figure size 432x288 with 1 Axes>"
      ]
     },
     "metadata": {
      "needs_background": "light"
     },
     "output_type": "display_data"
    }
   ],
   "source": [
    "categorias.plot(x='diferenca_YoY_Outros', y= 'pib_YoY', kind='scatter')\n",
    "df5 = categorias[['diferenca_YoY_Outros', 'pib_YoY']]\n",
    "df5.corr(method = 'pearson')"
   ]
  },
  {
   "cell_type": "code",
   "execution_count": 79,
   "metadata": {},
   "outputs": [
    {
     "data": {
      "text/html": [
       "<div>\n",
       "<style scoped>\n",
       "    .dataframe tbody tr th:only-of-type {\n",
       "        vertical-align: middle;\n",
       "    }\n",
       "\n",
       "    .dataframe tbody tr th {\n",
       "        vertical-align: top;\n",
       "    }\n",
       "\n",
       "    .dataframe thead th {\n",
       "        text-align: right;\n",
       "    }\n",
       "</style>\n",
       "<table border=\"1\" class=\"dataframe\">\n",
       "  <thead>\n",
       "    <tr style=\"text-align: right;\">\n",
       "      <th></th>\n",
       "      <th>diferenca_YoY_Cativo</th>\n",
       "      <th>pib_YoY</th>\n",
       "    </tr>\n",
       "  </thead>\n",
       "  <tbody>\n",
       "    <tr>\n",
       "      <th>diferenca_YoY_Cativo</th>\n",
       "      <td>1.000000</td>\n",
       "      <td>0.429164</td>\n",
       "    </tr>\n",
       "    <tr>\n",
       "      <th>pib_YoY</th>\n",
       "      <td>0.429164</td>\n",
       "      <td>1.000000</td>\n",
       "    </tr>\n",
       "  </tbody>\n",
       "</table>\n",
       "</div>"
      ],
      "text/plain": [
       "                      diferenca_YoY_Cativo   pib_YoY\n",
       "diferenca_YoY_Cativo              1.000000  0.429164\n",
       "pib_YoY                           0.429164  1.000000"
      ]
     },
     "execution_count": 79,
     "metadata": {},
     "output_type": "execute_result"
    },
    {
     "data": {
      "image/png": "[encoded data removed]",
      "text/plain": [
       "<Figure size 432x288 with 1 Axes>"
      ]
     },
     "metadata": {
      "needs_background": "light"
     },
     "output_type": "display_data"
    }
   ],
   "source": [
    "categorias.plot(x='diferenca_YoY_Cativo', y= 'pib_YoY', kind='scatter')\n",
    "df6 = categorias[['diferenca_YoY_Cativo', 'pib_YoY']]\n",
    "df6.corr(method = 'pearson')"
   ]
  },
  {
   "cell_type": "markdown",
   "metadata": {},
   "source": [
    "Concluindo sobre as correlações das categorias: O consumo Total e o Industrial possuem correlação positiva forte, o consumo comercial apresenta uma correlação positiva moderada, enquanto o restante apresenta correlação positiva fraca."
   ]
  },
  {
   "cell_type": "code",
   "execution_count": 81,
   "metadata": {},
   "outputs": [
    {
     "data": {
      "text/html": [
       "<div>\n",
       "<style scoped>\n",
       "    .dataframe tbody tr th:only-of-type {\n",
       "        vertical-align: middle;\n",
       "    }\n",
       "\n",
       "    .dataframe tbody tr th {\n",
       "        vertical-align: top;\n",
       "    }\n",
       "\n",
       "    .dataframe thead th {\n",
       "        text-align: right;\n",
       "    }\n",
       "</style>\n",
       "<table border=\"1\" class=\"dataframe\">\n",
       "  <thead>\n",
       "    <tr style=\"text-align: right;\">\n",
       "      <th></th>\n",
       "      <th>consumo_total_YoY</th>\n",
       "      <th>pesquisa_Industrial</th>\n",
       "    </tr>\n",
       "  </thead>\n",
       "  <tbody>\n",
       "    <tr>\n",
       "      <th>consumo_total_YoY</th>\n",
       "      <td>1.000000</td>\n",
       "      <td>0.732383</td>\n",
       "    </tr>\n",
       "    <tr>\n",
       "      <th>pesquisa_Industrial</th>\n",
       "      <td>0.732383</td>\n",
       "      <td>1.000000</td>\n",
       "    </tr>\n",
       "  </tbody>\n",
       "</table>\n",
       "</div>"
      ],
      "text/plain": [
       "                     consumo_total_YoY  pesquisa_Industrial\n",
       "consumo_total_YoY             1.000000             0.732383\n",
       "pesquisa_Industrial           0.732383             1.000000"
      ]
     },
     "execution_count": 81,
     "metadata": {},
     "output_type": "execute_result"
    },
    {
     "data": {
      "image/png": "[encoded data removed]",
      "text/plain": [
       "<Figure size 432x288 with 1 Axes>"
      ]
     },
     "metadata": {
      "needs_background": "light"
     },
     "output_type": "display_data"
    }
   ],
   "source": [
    "energia.plot(x='consumo_total_YoY', y='pesquisa_Industrial', kind='scatter')\n",
    "df7 = energia[['consumo_total_YoY', 'pesquisa_Industrial']]\n",
    "df7.corr(method = 'pearson')"
   ]
  },
  {
   "cell_type": "code",
   "execution_count": 83,
   "metadata": {},
   "outputs": [
    {
     "data": {
      "text/html": [
       "<div>\n",
       "<style scoped>\n",
       "    .dataframe tbody tr th:only-of-type {\n",
       "        vertical-align: middle;\n",
       "    }\n",
       "\n",
       "    .dataframe tbody tr th {\n",
       "        vertical-align: top;\n",
       "    }\n",
       "\n",
       "    .dataframe thead th {\n",
       "        text-align: right;\n",
       "    }\n",
       "</style>\n",
       "<table border=\"1\" class=\"dataframe\">\n",
       "  <thead>\n",
       "    <tr style=\"text-align: right;\">\n",
       "      <th></th>\n",
       "      <th>diferenca_YoY_Industrial</th>\n",
       "      <th>pesquisa_Industrial</th>\n",
       "    </tr>\n",
       "  </thead>\n",
       "  <tbody>\n",
       "    <tr>\n",
       "      <th>diferenca_YoY_Industrial</th>\n",
       "      <td>1.00000</td>\n",
       "      <td>0.81816</td>\n",
       "    </tr>\n",
       "    <tr>\n",
       "      <th>pesquisa_Industrial</th>\n",
       "      <td>0.81816</td>\n",
       "      <td>1.00000</td>\n",
       "    </tr>\n",
       "  </tbody>\n",
       "</table>\n",
       "</div>"
      ],
      "text/plain": [
       "                          diferenca_YoY_Industrial  pesquisa_Industrial\n",
       "diferenca_YoY_Industrial                   1.00000              0.81816\n",
       "pesquisa_Industrial                        0.81816              1.00000"
      ]
     },
     "execution_count": 83,
     "metadata": {},
     "output_type": "execute_result"
    },
    {
     "data": {
      "image/png": "[encoded data removed]",
      "text/plain": [
       "<Figure size 432x288 with 1 Axes>"
      ]
     },
     "metadata": {
      "needs_background": "light"
     },
     "output_type": "display_data"
    }
   ],
   "source": [
    "categorias.plot(x='diferenca_YoY_Industrial', y= 'pesquisa_Industrial', kind='scatter')\n",
    "df8 = categorias[['diferenca_YoY_Industrial', 'pesquisa_Industrial']]\n",
    "df8.corr(method = 'pearson')"
   ]
  },
  {
   "cell_type": "markdown",
   "metadata": {},
   "source": [
    "Analisando também a Pesquisa Industrial podemos ver que a correlação é forte tanto com o consumo total quanto o consumo industrial."
   ]
  },
  {
   "cell_type": "code",
   "execution_count": null,
   "metadata": {},
   "outputs": [],
   "source": []
  }
 ],
 "metadata": {
  "kernelspec": {
   "display_name": "Python 3",
   "language": "python",
   "name": "python3"
  },
  "language_info": {
   "codemirror_mode": {
    "name": "ipython",
    "version": 3
   },
   "file_extension": ".py",
   "mimetype": "text/x-python",
   "name": "python",
   "nbconvert_exporter": "python",
   "pygments_lexer": "ipython3",
   "version": "3.7.1"
  }
 },
 "nbformat": 4,
 "nbformat_minor": 2
}
