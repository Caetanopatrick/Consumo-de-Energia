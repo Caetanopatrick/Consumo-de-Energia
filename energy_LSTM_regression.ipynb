{
  "nbformat": 4,
  "nbformat_minor": 0,
  "metadata": {
    "kernelspec": {
      "display_name": "Python 3",
      "language": "python",
      "name": "python3"
    },
    "language_info": {
      "codemirror_mode": {
        "name": "ipython",
        "version": 3
      },
      "file_extension": ".py",
      "mimetype": "text/x-python",
      "name": "python",
      "nbconvert_exporter": "python",
      "pygments_lexer": "ipython3",
      "version": "3.7.4"
    },
    "colab": {
      "name": "energy_LSTM_regression.ipynb",
      "provenance": []
    }
  },
  "cells": [
    {
      "cell_type": "code",
      "metadata": {
        "id": "dpqNphmEr0Yo",
        "colab_type": "code",
        "colab": {}
      },
      "source": [
        "import numpy\n",
        "import matplotlib.pyplot as plt\n",
        "import pandas\n",
        "import math\n",
        "from keras.models import Sequential\n",
        "from keras.layers import Dense\n",
        "from keras.layers import LSTM\n",
        "from sklearn.preprocessing import MinMaxScaler\n",
        "from sklearn.metrics import mean_squared_error\n",
        "from sklearn.metrics import r2_score\n"
      ],
      "execution_count": 35,
      "outputs": []
    },
    {
      "cell_type": "code",
      "metadata": {
        "id": "ExZ-IwmLr0Ys",
        "colab_type": "code",
        "colab": {}
      },
      "source": [
        "\n",
        "# fix random seed for reproducibility\n",
        "numpy.random.seed(7)"
      ],
      "execution_count": 36,
      "outputs": []
    },
    {
      "cell_type": "code",
      "metadata": {
        "id": "ln3GvkK8r0Yv",
        "colab_type": "code",
        "colab": {}
      },
      "source": [
        "# load the dataset\n",
        "dataframe = pandas.read_csv('DatasetMonthly3.csv', usecols=[1], sep = \",\")\n",
        "dataset = dataframe.values\n",
        "dataset = dataset.astype('float32')"
      ],
      "execution_count": 37,
      "outputs": []
    },
    {
      "cell_type": "code",
      "metadata": {
        "id": "AJPb7DwTr0Yx",
        "colab_type": "code",
        "colab": {
          "base_uri": "https://localhost:8080/",
          "height": 276
        },
        "outputId": "4c3482a8-f14f-4528-b81c-3472a8575d98"
      },
      "source": [
        "plt.plot(dataset)\n",
        "plt.show()"
      ],
      "execution_count": 38,
      "outputs": [
        {
          "output_type": "display_data",
          "data": {
            "image/png": "[encoded data removed]",
            "text/plain": [
              "<Figure size 432x288 with 1 Axes>"
            ]
          },
          "metadata": {
            "tags": [],
            "needs_background": "light"
          }
        }
      ]
    },
    {
      "cell_type": "code",
      "metadata": {
        "id": "Hr8hYWIBr0Yz",
        "colab_type": "code",
        "colab": {}
      },
      "source": [
        "\n",
        "# normalize the dataset\n",
        "scaler = MinMaxScaler(feature_range=(0, 1))\n",
        "dataset = scaler.fit_transform(dataset)"
      ],
      "execution_count": 39,
      "outputs": []
    },
    {
      "cell_type": "code",
      "metadata": {
        "id": "oFEY_Yrar0Y1",
        "colab_type": "code",
        "colab": {
          "base_uri": "https://localhost:8080/",
          "height": 34
        },
        "outputId": "6e312f53-5184-4473-dee9-c1f0a07a7482"
      },
      "source": [
        "\n",
        "# split into train and test sets\n",
        "train_size = int(len(dataset) * 0.67)\n",
        "test_size = len(dataset) - train_size\n",
        "train, test = dataset[0:train_size,:], dataset[train_size:len(dataset),:]\n",
        "print(len(train), len(test))"
      ],
      "execution_count": 40,
      "outputs": [
        {
          "output_type": "stream",
          "text": [
            "124 62\n"
          ],
          "name": "stdout"
        }
      ]
    },
    {
      "cell_type": "code",
      "metadata": {
        "id": "PvgAWSkzr0Y3",
        "colab_type": "code",
        "colab": {}
      },
      "source": [
        "\n",
        "# convert an array of values into a dataset matrix\n",
        "def create_dataset(dataset, look_back=1):\n",
        "\tdataX, dataY = [], []\n",
        "\tfor i in range(len(dataset)-look_back-1):\n",
        "\t\ta = dataset[i:(i+look_back), 0]\n",
        "\t\tdataX.append(a)\n",
        "\t\tdataY.append(dataset[i + look_back, 0])\n",
        "\treturn numpy.array(dataX), numpy.array(dataY)\n"
      ],
      "execution_count": 41,
      "outputs": []
    },
    {
      "cell_type": "code",
      "metadata": {
        "id": "4NKYxydOr0Y5",
        "colab_type": "code",
        "colab": {}
      },
      "source": [
        "# reshape into X=t and Y=t+1\n",
        "look_back = 1\n",
        "trainX, trainY = create_dataset(train, look_back)\n",
        "testX, testY = create_dataset(test, look_back)"
      ],
      "execution_count": 42,
      "outputs": []
    },
    {
      "cell_type": "code",
      "metadata": {
        "id": "nKIc5sDPr0Y7",
        "colab_type": "code",
        "colab": {}
      },
      "source": [
        "\n",
        "# reshape input to be [samples, time steps, features]\n",
        "trainX = numpy.reshape(trainX, (trainX.shape[0], 1, trainX.shape[1]))\n",
        "testX = numpy.reshape(testX, (testX.shape[0], 1, testX.shape[1]))"
      ],
      "execution_count": 43,
      "outputs": []
    },
    {
      "cell_type": "code",
      "metadata": {
        "id": "V7YBwGpWr0Y9",
        "colab_type": "code",
        "colab": {
          "base_uri": "https://localhost:8080/",
          "height": 1000
        },
        "outputId": "6f9fa7d6-ae43-462b-a1a2-12d3451445b4"
      },
      "source": [
        "# create and fit the LSTM network\n",
        "model = Sequential()\n",
        "model.add(LSTM(4, input_shape=(1, look_back)))\n",
        "model.add(Dense(1))\n",
        "model.compile(loss='mean_squared_error', optimizer='adam')\n",
        "model.fit(trainX, trainY, epochs=100, batch_size=1, verbose=2)"
      ],
      "execution_count": 44,
      "outputs": [
        {
          "output_type": "stream",
          "text": [
            "Epoch 1/100\n",
            " - 0s - loss: 0.2747\n",
            "Epoch 2/100\n",
            " - 0s - loss: 0.1516\n",
            "Epoch 3/100\n",
            " - 0s - loss: 0.0901\n",
            "Epoch 4/100\n",
            " - 0s - loss: 0.0639\n",
            "Epoch 5/100\n",
            " - 0s - loss: 0.0540\n",
            "Epoch 6/100\n",
            " - 0s - loss: 0.0490\n",
            "Epoch 7/100\n",
            " - 0s - loss: 0.0451\n",
            "Epoch 8/100\n",
            " - 0s - loss: 0.0415\n",
            "Epoch 9/100\n",
            " - 0s - loss: 0.0378\n",
            "Epoch 10/100\n",
            " - 0s - loss: 0.0341\n",
            "Epoch 11/100\n",
            " - 0s - loss: 0.0304\n",
            "Epoch 12/100\n",
            " - 0s - loss: 0.0266\n",
            "Epoch 13/100\n",
            " - 0s - loss: 0.0229\n",
            "Epoch 14/100\n",
            " - 0s - loss: 0.0194\n",
            "Epoch 15/100\n",
            " - 0s - loss: 0.0160\n",
            "Epoch 16/100\n",
            " - 0s - loss: 0.0129\n",
            "Epoch 17/100\n",
            " - 0s - loss: 0.0104\n",
            "Epoch 18/100\n",
            " - 0s - loss: 0.0080\n",
            "Epoch 19/100\n",
            " - 0s - loss: 0.0061\n",
            "Epoch 20/100\n",
            " - 0s - loss: 0.0047\n",
            "Epoch 21/100\n",
            " - 0s - loss: 0.0037\n",
            "Epoch 22/100\n",
            " - 0s - loss: 0.0029\n",
            "Epoch 23/100\n",
            " - 0s - loss: 0.0024\n",
            "Epoch 24/100\n",
            " - 0s - loss: 0.0021\n",
            "Epoch 25/100\n",
            " - 0s - loss: 0.0020\n",
            "Epoch 26/100\n",
            " - 0s - loss: 0.0019\n",
            "Epoch 27/100\n",
            " - 0s - loss: 0.0018\n",
            "Epoch 28/100\n",
            " - 0s - loss: 0.0018\n",
            "Epoch 29/100\n",
            " - 0s - loss: 0.0018\n",
            "Epoch 30/100\n",
            " - 0s - loss: 0.0018\n",
            "Epoch 31/100\n",
            " - 0s - loss: 0.0018\n",
            "Epoch 32/100\n",
            " - 0s - loss: 0.0018\n",
            "Epoch 33/100\n",
            " - 0s - loss: 0.0018\n",
            "Epoch 34/100\n",
            " - 0s - loss: 0.0018\n",
            "Epoch 35/100\n",
            " - 0s - loss: 0.0018\n",
            "Epoch 36/100\n",
            " - 0s - loss: 0.0018\n",
            "Epoch 37/100\n",
            " - 0s - loss: 0.0018\n",
            "Epoch 38/100\n",
            " - 0s - loss: 0.0018\n",
            "Epoch 39/100\n",
            " - 0s - loss: 0.0018\n",
            "Epoch 40/100\n",
            " - 0s - loss: 0.0018\n",
            "Epoch 41/100\n",
            " - 0s - loss: 0.0019\n",
            "Epoch 42/100\n",
            " - 0s - loss: 0.0018\n",
            "Epoch 43/100\n",
            " - 0s - loss: 0.0019\n",
            "Epoch 44/100\n",
            " - 0s - loss: 0.0018\n",
            "Epoch 45/100\n",
            " - 0s - loss: 0.0018\n",
            "Epoch 46/100\n",
            " - 0s - loss: 0.0018\n",
            "Epoch 47/100\n",
            " - 0s - loss: 0.0019\n",
            "Epoch 48/100\n",
            " - 0s - loss: 0.0018\n",
            "Epoch 49/100\n",
            " - 0s - loss: 0.0018\n",
            "Epoch 50/100\n",
            " - 0s - loss: 0.0017\n",
            "Epoch 51/100\n",
            " - 0s - loss: 0.0019\n",
            "Epoch 52/100\n",
            " - 0s - loss: 0.0018\n",
            "Epoch 53/100\n",
            " - 0s - loss: 0.0018\n",
            "Epoch 54/100\n",
            " - 0s - loss: 0.0018\n",
            "Epoch 55/100\n",
            " - 0s - loss: 0.0018\n",
            "Epoch 56/100\n",
            " - 0s - loss: 0.0018\n",
            "Epoch 57/100\n",
            " - 0s - loss: 0.0018\n",
            "Epoch 58/100\n",
            " - 0s - loss: 0.0018\n",
            "Epoch 59/100\n",
            " - 0s - loss: 0.0018\n",
            "Epoch 60/100\n",
            " - 0s - loss: 0.0018\n",
            "Epoch 61/100\n",
            " - 0s - loss: 0.0018\n",
            "Epoch 62/100\n",
            " - 0s - loss: 0.0018\n",
            "Epoch 63/100\n",
            " - 0s - loss: 0.0018\n",
            "Epoch 64/100\n",
            " - 0s - loss: 0.0018\n",
            "Epoch 65/100\n",
            " - 0s - loss: 0.0018\n",
            "Epoch 66/100\n",
            " - 0s - loss: 0.0018\n",
            "Epoch 67/100\n",
            " - 0s - loss: 0.0018\n",
            "Epoch 68/100\n",
            " - 0s - loss: 0.0018\n",
            "Epoch 69/100\n",
            " - 0s - loss: 0.0018\n",
            "Epoch 70/100\n",
            " - 0s - loss: 0.0018\n",
            "Epoch 71/100\n",
            " - 0s - loss: 0.0018\n",
            "Epoch 72/100\n",
            " - 0s - loss: 0.0018\n",
            "Epoch 73/100\n",
            " - 0s - loss: 0.0018\n",
            "Epoch 74/100\n",
            " - 0s - loss: 0.0018\n",
            "Epoch 75/100\n",
            " - 0s - loss: 0.0018\n",
            "Epoch 76/100\n",
            " - 0s - loss: 0.0018\n",
            "Epoch 77/100\n",
            " - 0s - loss: 0.0018\n",
            "Epoch 78/100\n",
            " - 0s - loss: 0.0018\n",
            "Epoch 79/100\n",
            " - 0s - loss: 0.0018\n",
            "Epoch 80/100\n",
            " - 0s - loss: 0.0018\n",
            "Epoch 81/100\n",
            " - 0s - loss: 0.0018\n",
            "Epoch 82/100\n",
            " - 0s - loss: 0.0018\n",
            "Epoch 83/100\n",
            " - 0s - loss: 0.0018\n",
            "Epoch 84/100\n",
            " - 0s - loss: 0.0018\n",
            "Epoch 85/100\n",
            " - 0s - loss: 0.0018\n",
            "Epoch 86/100\n",
            " - 0s - loss: 0.0019\n",
            "Epoch 87/100\n",
            " - 0s - loss: 0.0019\n",
            "Epoch 88/100\n",
            " - 0s - loss: 0.0018\n",
            "Epoch 89/100\n",
            " - 0s - loss: 0.0018\n",
            "Epoch 90/100\n",
            " - 0s - loss: 0.0018\n",
            "Epoch 91/100\n",
            " - 0s - loss: 0.0018\n",
            "Epoch 92/100\n",
            " - 0s - loss: 0.0018\n",
            "Epoch 93/100\n",
            " - 0s - loss: 0.0018\n",
            "Epoch 94/100\n",
            " - 0s - loss: 0.0018\n",
            "Epoch 95/100\n",
            " - 0s - loss: 0.0018\n",
            "Epoch 96/100\n",
            " - 0s - loss: 0.0018\n",
            "Epoch 97/100\n",
            " - 0s - loss: 0.0018\n",
            "Epoch 98/100\n",
            " - 0s - loss: 0.0018\n",
            "Epoch 99/100\n",
            " - 0s - loss: 0.0018\n",
            "Epoch 100/100\n",
            " - 0s - loss: 0.0019\n"
          ],
          "name": "stdout"
        },
        {
          "output_type": "execute_result",
          "data": {
            "text/plain": [
              "<keras.callbacks.callbacks.History at 0x7f43ca73cd68>"
            ]
          },
          "metadata": {
            "tags": []
          },
          "execution_count": 44
        }
      ]
    },
    {
      "cell_type": "code",
      "metadata": {
        "id": "k5EY0WEnr0Y_",
        "colab_type": "code",
        "colab": {
          "base_uri": "https://localhost:8080/",
          "height": 85
        },
        "outputId": "69f1254c-4730-44b3-dd04-d3f1e57f761d"
      },
      "source": [
        "# make predictions\n",
        "trainPredict = model.predict(trainX)\n",
        "testPredict = model.predict(testX)\n",
        "# invert predictions\n",
        "trainPredict = scaler.inverse_transform(trainPredict)\n",
        "trainY = scaler.inverse_transform([trainY])\n",
        "testPredict = scaler.inverse_transform(testPredict)\n",
        "testY = scaler.inverse_transform([testY])\n",
        "# calculate root mean squared error\n",
        "trainScore = math.sqrt(mean_squared_error(trainY[0], trainPredict[:,0]))\n",
        "print('Train Score: %.2f RMSE' % (trainScore))\n",
        "testScore = math.sqrt(mean_squared_error(testY[0], testPredict[:,0]))\n",
        "print('Test Score: %.2f RMSE' % (testScore))\n",
        "trainScore2 = r2_score(trainY[0], trainPredict[:,0])\n",
        "print('Train Score: %.2f R2' % (trainScore2))\n",
        "testScore2 = r2_score(testY[0], testPredict[:,0])\n",
        "print('Test Score: %.2f R2' % (testScore2))"
      ],
      "execution_count": 45,
      "outputs": [
        {
          "output_type": "stream",
          "text": [
            "Train Score: 631472.75 RMSE\n",
            "Test Score: 834822.28 RMSE\n",
            "Train Score: 0.97 R2\n",
            "Test Score: 0.46 R2\n"
          ],
          "name": "stdout"
        }
      ]
    },
    {
      "cell_type": "code",
      "metadata": {
        "id": "yjWfwoQlr0ZB",
        "colab_type": "code",
        "colab": {
          "base_uri": "https://localhost:8080/",
          "height": 276
        },
        "outputId": "faf8e2ea-fa91-404b-8356-879e854ed6f4"
      },
      "source": [
        "# shift train predictions for plotting\n",
        "trainPredictPlot = numpy.empty_like(dataset)\n",
        "trainPredictPlot[:, :] = numpy.nan\n",
        "trainPredictPlot[look_back:len(trainPredict)+look_back, :] = trainPredict\n",
        "# shift test predictions for plotting\n",
        "testPredictPlot = numpy.empty_like(dataset)\n",
        "testPredictPlot[:, :] = numpy.nan\n",
        "testPredictPlot[len(trainPredict)+(look_back*2)+1:len(dataset)-1, :] = testPredict\n",
        "# plot baseline and predictions\n",
        "plt.plot(scaler.inverse_transform(dataset))\n",
        "plt.plot(trainPredictPlot)\n",
        "plt.plot(testPredictPlot)\n",
        "plt.show()"
      ],
      "execution_count": 46,
      "outputs": [
        {
          "output_type": "display_data",
          "data": {
            "image/png": "[encoded data removed]",
            "text/plain": [
              "<Figure size 432x288 with 1 Axes>"
            ]
          },
          "metadata": {
            "tags": [],
            "needs_background": "light"
          }
        }
      ]
    },
    {
      "cell_type": "code",
      "metadata": {
        "id": "upkl_LLQr0ZE",
        "colab_type": "code",
        "colab": {
          "base_uri": "https://localhost:8080/",
          "height": 1000
        },
        "outputId": "c8b9348c-2c3d-4185-b08c-311fb8ddc592"
      },
      "source": [
        "testPredictPlot\n"
      ],
      "execution_count": 47,
      "outputs": [
        {
          "output_type": "execute_result",
          "data": {
            "text/plain": [
              "array([[      nan],\n",
              "       [      nan],\n",
              "       [      nan],\n",
              "       [      nan],\n",
              "       [      nan],\n",
              "       [      nan],\n",
              "       [      nan],\n",
              "       [      nan],\n",
              "       [      nan],\n",
              "       [      nan],\n",
              "       [      nan],\n",
              "       [      nan],\n",
              "       [      nan],\n",
              "       [      nan],\n",
              "       [      nan],\n",
              "       [      nan],\n",
              "       [      nan],\n",
              "       [      nan],\n",
              "       [      nan],\n",
              "       [      nan],\n",
              "       [      nan],\n",
              "       [      nan],\n",
              "       [      nan],\n",
              "       [      nan],\n",
              "       [      nan],\n",
              "       [      nan],\n",
              "       [      nan],\n",
              "       [      nan],\n",
              "       [      nan],\n",
              "       [      nan],\n",
              "       [      nan],\n",
              "       [      nan],\n",
              "       [      nan],\n",
              "       [      nan],\n",
              "       [      nan],\n",
              "       [      nan],\n",
              "       [      nan],\n",
              "       [      nan],\n",
              "       [      nan],\n",
              "       [      nan],\n",
              "       [      nan],\n",
              "       [      nan],\n",
              "       [      nan],\n",
              "       [      nan],\n",
              "       [      nan],\n",
              "       [      nan],\n",
              "       [      nan],\n",
              "       [      nan],\n",
              "       [      nan],\n",
              "       [      nan],\n",
              "       [      nan],\n",
              "       [      nan],\n",
              "       [      nan],\n",
              "       [      nan],\n",
              "       [      nan],\n",
              "       [      nan],\n",
              "       [      nan],\n",
              "       [      nan],\n",
              "       [      nan],\n",
              "       [      nan],\n",
              "       [      nan],\n",
              "       [      nan],\n",
              "       [      nan],\n",
              "       [      nan],\n",
              "       [      nan],\n",
              "       [      nan],\n",
              "       [      nan],\n",
              "       [      nan],\n",
              "       [      nan],\n",
              "       [      nan],\n",
              "       [      nan],\n",
              "       [      nan],\n",
              "       [      nan],\n",
              "       [      nan],\n",
              "       [      nan],\n",
              "       [      nan],\n",
              "       [      nan],\n",
              "       [      nan],\n",
              "       [      nan],\n",
              "       [      nan],\n",
              "       [      nan],\n",
              "       [      nan],\n",
              "       [      nan],\n",
              "       [      nan],\n",
              "       [      nan],\n",
              "       [      nan],\n",
              "       [      nan],\n",
              "       [      nan],\n",
              "       [      nan],\n",
              "       [      nan],\n",
              "       [      nan],\n",
              "       [      nan],\n",
              "       [      nan],\n",
              "       [      nan],\n",
              "       [      nan],\n",
              "       [      nan],\n",
              "       [      nan],\n",
              "       [      nan],\n",
              "       [      nan],\n",
              "       [      nan],\n",
              "       [      nan],\n",
              "       [      nan],\n",
              "       [      nan],\n",
              "       [      nan],\n",
              "       [      nan],\n",
              "       [      nan],\n",
              "       [      nan],\n",
              "       [      nan],\n",
              "       [      nan],\n",
              "       [      nan],\n",
              "       [      nan],\n",
              "       [      nan],\n",
              "       [      nan],\n",
              "       [      nan],\n",
              "       [      nan],\n",
              "       [      nan],\n",
              "       [      nan],\n",
              "       [      nan],\n",
              "       [      nan],\n",
              "       [      nan],\n",
              "       [      nan],\n",
              "       [      nan],\n",
              "       [      nan],\n",
              "       [      nan],\n",
              "       [      nan],\n",
              "       [38986316.],\n",
              "       [37837060.],\n",
              "       [37959976.],\n",
              "       [38540910.],\n",
              "       [38822060.],\n",
              "       [39748184.],\n",
              "       [40349264.],\n",
              "       [39554348.],\n",
              "       [40202964.],\n",
              "       [40176216.],\n",
              "       [39477540.],\n",
              "       [39354510.],\n",
              "       [38228950.],\n",
              "       [37401750.],\n",
              "       [36987190.],\n",
              "       [37933824.],\n",
              "       [37917640.],\n",
              "       [39105704.],\n",
              "       [39065884.],\n",
              "       [38619020.],\n",
              "       [38395828.],\n",
              "       [38658790.],\n",
              "       [39242150.],\n",
              "       [39856012.],\n",
              "       [38603332.],\n",
              "       [37660960.],\n",
              "       [37394000.],\n",
              "       [37785880.],\n",
              "       [38348020.],\n",
              "       [38225904.],\n",
              "       [38687070.],\n",
              "       [38708350.],\n",
              "       [39176190.],\n",
              "       [38756024.],\n",
              "       [40049172.],\n",
              "       [39227480.],\n",
              "       [38185070.],\n",
              "       [38151044.],\n",
              "       [37504136.],\n",
              "       [37935100.],\n",
              "       [38892110.],\n",
              "       [39152584.],\n",
              "       [39525532.],\n",
              "       [39357084.],\n",
              "       [39677090.],\n",
              "       [38986590.],\n",
              "       [40407950.],\n",
              "       [40121880.],\n",
              "       [39058630.],\n",
              "       [38191270.],\n",
              "       [38447250.],\n",
              "       [38857524.],\n",
              "       [38875404.],\n",
              "       [39908140.],\n",
              "       [39895532.],\n",
              "       [39500612.],\n",
              "       [40801476.],\n",
              "       [40514880.],\n",
              "       [40370656.],\n",
              "       [39352196.],\n",
              "       [      nan]], dtype=float32)"
            ]
          },
          "metadata": {
            "tags": []
          },
          "execution_count": 47
        }
      ]
    },
    {
      "cell_type": "code",
      "metadata": {
        "id": "nXreQvXwr0ZG",
        "colab_type": "code",
        "colab": {
          "base_uri": "https://localhost:8080/",
          "height": 357
        },
        "outputId": "26afbe63-2864-41ee-8fef-2c4af5569f4f"
      },
      "source": [
        "testY[0]"
      ],
      "execution_count": 48,
      "outputs": [
        {
          "output_type": "execute_result",
          "data": {
            "text/plain": [
              "array([37726473.29214316, 37866808.28849752, 38550695.85281252,\n",
              "       38894975.90356412, 40100439.9451694 , 40950729.77474269,\n",
              "       39838308.44235577, 40738291.82431247, 40699842.69295231,\n",
              "       39735953.15708765, 39573743.17596808, 38179070.26564182,\n",
              "       37240554.70104574, 36792496.66050347, 37836826.77669404,\n",
              "       37818306.34142486, 39251998.90929037, 39201265.41045395,\n",
              "       38645417.64224149, 38376548.15303437, 38693923.20023933,\n",
              "       39427421.26565851, 40248708.1441532 , 38626337.51356877,\n",
              "       37527876.01794355, 37232054.5831624 , 37668460.16813561,\n",
              "       38319672.4704598 , 38175488.22785921, 38728523.08535326,\n",
              "       38754622.85258384, 39342315.36999475, 38813275.11034896,\n",
              "       40518866.73365104, 39408438.63196576, 38127629.02546932,\n",
              "       38087869.12826733, 37353356.39287144, 37838292.81231879,\n",
              "       38982223.07786203, 39311990.82029879, 39799808.75804304,\n",
              "       39577112.16916484, 40003645.48468476, 39100845.58108448,\n",
              "       41036994.77739052, 40622117.52836483, 39192046.71845897,\n",
              "       38134883.37416415, 38438002.48874234, 38939068.910987  ,\n",
              "       38961359.15214838, 40321034.97559047, 40303503.93382172,\n",
              "       39766606.30097536, 41631609.43837933, 41195734.65940817,\n",
              "       40982101.49274203, 39570706.38788827, 40498880.26275712])"
            ]
          },
          "metadata": {
            "tags": []
          },
          "execution_count": 48
        }
      ]
    },
    {
      "cell_type": "code",
      "metadata": {
        "id": "aMKuLtaruDdQ",
        "colab_type": "code",
        "colab": {
          "base_uri": "https://localhost:8080/",
          "height": 204
        },
        "outputId": "e3698129-44ad-40f0-a8a7-1722fa55610e"
      },
      "source": [
        " testPredict[:,0]"
      ],
      "execution_count": 49,
      "outputs": [
        {
          "output_type": "execute_result",
          "data": {
            "text/plain": [
              "array([38986316., 37837060., 37959976., 38540910., 38822060., 39748184.,\n",
              "       40349264., 39554348., 40202964., 40176216., 39477540., 39354510.,\n",
              "       38228950., 37401750., 36987190., 37933824., 37917640., 39105704.,\n",
              "       39065884., 38619020., 38395828., 38658790., 39242150., 39856012.,\n",
              "       38603332., 37660960., 37394000., 37785880., 38348020., 38225904.,\n",
              "       38687070., 38708350., 39176190., 38756024., 40049172., 39227480.,\n",
              "       38185070., 38151044., 37504136., 37935100., 38892110., 39152584.,\n",
              "       39525532., 39357084., 39677090., 38986590., 40407950., 40121880.,\n",
              "       39058630., 38191270., 38447250., 38857524., 38875404., 39908140.,\n",
              "       39895532., 39500612., 40801476., 40514880., 40370656., 39352196.],\n",
              "      dtype=float32)"
            ]
          },
          "metadata": {
            "tags": []
          },
          "execution_count": 49
        }
      ]
    },
    {
      "cell_type": "code",
      "metadata": {
        "id": "XvwdfKFpvSIn",
        "colab_type": "code",
        "colab": {}
      },
      "source": [
        "y_test = [[37726470.0],\n",
        "[37866810.0],\n",
        "[38550696.0],\n",
        "[38894976.0],\n",
        "[40100440.0],\n",
        "[40950730.0],\n",
        "[39838308.0],\n",
        "[40738292.0],\n",
        "[40699844.0],\n",
        "[39735950.0],\n",
        "[39573744.0],\n",
        "[38179070.0],\n",
        "[37240556.0],\n",
        "[36792496.0],\n",
        "[37836828.0],\n",
        "[37818308.0],\n",
        "[39252000.0],\n",
        "[39201264.0],\n",
        "[38645416.0],\n",
        "[38376548.0],\n",
        "[38693924.0],\n",
        "[39427420.0],\n",
        "[40248708.0],\n",
        "[38626336.0],\n",
        "[37527876.0],\n",
        "[37232056.0],\n",
        "[37668460.0],\n",
        "[38319670.0],\n",
        "[38175490.0],\n",
        "[38728524.0],\n",
        "[38754624.0],\n",
        "[39342316.0],\n",
        "[38813276.0],\n",
        "[40518868.0],\n",
        "[39408440.0],\n",
        "[38127628.0],\n",
        "[38087868.0],\n",
        "[37353356.0],\n",
        "[37838292.0],\n",
        "[38982224.0],\n",
        "[39311990.0],\n",
        "[39799810.0],\n",
        "[39577110.0],\n",
        "[40003644.0],\n",
        "[39100844.0],\n",
        "[41036996.0],\n",
        "[40622116.0],\n",
        "[39192050.0],\n",
        "[38134884.0],\n",
        "[38438004.0],\n",
        "[38939068.0],\n",
        "[38961360.0],\n",
        "[40321036.0],\n",
        "[40303504.0],\n",
        "[39766610.0],\n",
        "[41631610.0],\n",
        "[41195736.0],\n",
        "[40982100.0],\n",
        "[39570708.0],\n",
        "[40498880.0]]"
      ],
      "execution_count": 50,
      "outputs": []
    },
    {
      "cell_type": "code",
      "metadata": {
        "id": "59fZECuWM5Hn",
        "colab_type": "code",
        "colab": {}
      },
      "source": [
        "y_pred = [[39062350.0],\n",
        "[37799576.0],\n",
        "[37931684.0],\n",
        "[38565420.0],\n",
        "[38877936.0],\n",
        "[39936076.0],\n",
        "[40647596.0],\n",
        "[39710852.0],\n",
        "[40472570.0],\n",
        "[40440692.0],\n",
        "[39622170.0],\n",
        "[39480772.0],\n",
        "[38223140.0],\n",
        "[37336996.0],\n",
        "[36903696.0],\n",
        "[37903510.0],\n",
        "[37886100.0],\n",
        "[39197252.0],\n",
        "[39152176.0],\n",
        "[38651850.0],\n",
        "[38405656.0],\n",
        "[38695976.0],\n",
        "[39352336.0],\n",
        "[40062244.0],\n",
        "[38634468.0],\n",
        "[37611470.0],\n",
        "[37328836.0],\n",
        "[37744770.0],\n",
        "[38353236.0],\n",
        "[38219820.0],\n",
        "[38727400.0],\n",
        "[38751070.0],\n",
        "[39277250.0],\n",
        "[38804180.0],\n",
        "[40289864.0],\n",
        "[39335612.0],\n",
        "[38175364.0],\n",
        "[38138376.0],\n",
        "[37445076.0],\n",
        "[37904892.0],\n",
        "[38956424.0],\n",
        "[39250424.0],\n",
        "[39677548.0],\n",
        "[39483720.0],\n",
        "[39853228.0],\n",
        "[39062664.0],\n",
        "[40718148.0],\n",
        "[40376080.0],\n",
        "[39143976.0],\n",
        "[38182110.0],\n",
        "[38462164.0],\n",
        "[38917640.0],\n",
        "[38937684.0],\n",
        "[40123470.0],\n",
        "[40108650.0],\n",
        "[39648772.0],\n",
        "[41196220.0],\n",
        "[40847184.0],\n",
        "[40673290.0],\n",
        "[39478116.0]]"
      ],
      "execution_count": 51,
      "outputs": []
    }
  ]
}