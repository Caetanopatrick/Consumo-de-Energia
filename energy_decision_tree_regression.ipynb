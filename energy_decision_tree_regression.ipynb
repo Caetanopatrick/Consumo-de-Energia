{
  "nbformat": 4,
  "nbformat_minor": 0,
  "metadata": {
    "colab": {
      "name": "energy_decision_tree_regression.ipynb",
      "provenance": [],
      "collapsed_sections": [],
      "toc_visible": true
    },
    "kernelspec": {
      "name": "python3",
      "display_name": "Python 3"
    }
  },
  "cells": [
    {
      "cell_type": "markdown",
      "metadata": {
        "id": "r3cas2_1T98w",
        "colab_type": "text"
      },
      "source": [
        "# Decision Tree Regression"
      ]
    },
    {
      "cell_type": "markdown",
      "metadata": {
        "id": "IODliia6U1xO",
        "colab_type": "text"
      },
      "source": [
        "## Importing the libraries"
      ]
    },
    {
      "cell_type": "code",
      "metadata": {
        "id": "y98nA5UdU6Hf",
        "colab_type": "code",
        "colab": {}
      },
      "source": [
        "import numpy as np\n",
        "import matplotlib.pyplot as plt\n",
        "import pandas as pd"
      ],
      "execution_count": 1,
      "outputs": []
    },
    {
      "cell_type": "markdown",
      "metadata": {
        "id": "jpjZ43YlU8eI",
        "colab_type": "text"
      },
      "source": [
        "## Importing the dataset"
      ]
    },
    {
      "cell_type": "code",
      "metadata": {
        "id": "pLVaXoYVU_Uy",
        "colab_type": "code",
        "colab": {}
      },
      "source": [
        "dataset = pd.read_csv('DatasetMonthly3.csv')\n",
        "train = dataset.iloc[0:123,:] \n",
        "test = dataset.iloc[123:-1,:] \n",
        "\n",
        "X_train = np.array(train.iloc[:, 0]).reshape(-1, 1)\n",
        "y_train = np.array(train.iloc[:, 1]).reshape(-1, 1)\n",
        "X_test = np.array(test.iloc[:, 0]).reshape(-1, 1)\n",
        "y_test = np.array(test.iloc[:, 1]).reshape(-1, 1)"
      ],
      "execution_count": 2,
      "outputs": []
    },
    {
      "cell_type": "markdown",
      "metadata": {
        "id": "g16qFkFQVC35",
        "colab_type": "text"
      },
      "source": [
        "## Training the Decision Tree Regression model on the Training set"
      ]
    },
    {
      "cell_type": "code",
      "metadata": {
        "id": "SLDKyv1SVUqS",
        "colab_type": "code",
        "colab": {
          "base_uri": "https://localhost:8080/",
          "height": 119
        },
        "outputId": "c8fd52d7-73b1-419e-9c82-f411f5b7f34e"
      },
      "source": [
        "from sklearn.tree import DecisionTreeRegressor\n",
        "regressor = DecisionTreeRegressor(random_state = 0)\n",
        "regressor.fit(X_train, y_train)"
      ],
      "execution_count": 3,
      "outputs": [
        {
          "output_type": "execute_result",
          "data": {
            "text/plain": [
              "DecisionTreeRegressor(ccp_alpha=0.0, criterion='mse', max_depth=None,\n",
              "                      max_features=None, max_leaf_nodes=None,\n",
              "                      min_impurity_decrease=0.0, min_impurity_split=None,\n",
              "                      min_samples_leaf=1, min_samples_split=2,\n",
              "                      min_weight_fraction_leaf=0.0, presort='deprecated',\n",
              "                      random_state=0, splitter='best')"
            ]
          },
          "metadata": {
            "tags": []
          },
          "execution_count": 3
        }
      ]
    },
    {
      "cell_type": "markdown",
      "metadata": {
        "id": "Nao9cdO6IgNb",
        "colab_type": "text"
      },
      "source": [
        "## Predicting the Test set results"
      ]
    },
    {
      "cell_type": "code",
      "metadata": {
        "id": "EebHA3EOIkQK",
        "colab_type": "code",
        "colab": {
          "base_uri": "https://localhost:8080/",
          "height": 1000
        },
        "outputId": "a28d9f6d-f4d3-41fe-ff3a-5a3aac208104"
      },
      "source": [
        "y_pred = regressor.predict(X_test)\n",
        "np.set_printoptions(precision=2)\n",
        "print(np.concatenate((y_pred.reshape(len(y_pred),1), y_test.reshape(len(y_test),1)),1))"
      ],
      "execution_count": 4,
      "outputs": [
        {
          "output_type": "stream",
          "text": [
            "[[40269429.   39591854.  ]\n",
            " [40269429.   39100499.  ]\n",
            " [40269429.   37726472.88]\n",
            " [40269429.   37866809.  ]\n",
            " [40269429.   38550694.  ]\n",
            " [40269429.   38894976.  ]\n",
            " [40269429.   40100440.59]\n",
            " [40269429.   40950726.39]\n",
            " [40269429.   39838307.03]\n",
            " [40269429.   40738291.74]\n",
            " [40269429.   40699842.98]\n",
            " [40269429.   39735951.44]\n",
            " [40269429.   39573744.46]\n",
            " [40269429.   38179073.88]\n",
            " [40269429.   37240557.1 ]\n",
            " [40269429.   36792495.92]\n",
            " [40269429.   37836828.47]\n",
            " [40269429.   37818309.05]\n",
            " [40269429.   39252000.52]\n",
            " [40269429.   39201262.49]\n",
            " [40269429.   38645417.47]\n",
            " [40269429.   38376549.11]\n",
            " [40269429.   38693924.07]\n",
            " [40269429.   39427420.71]\n",
            " [40269429.   40248709.4 ]\n",
            " [40269429.   38626336.87]\n",
            " [40269429.   37527874.44]\n",
            " [40269429.   37232054.08]\n",
            " [40269429.   37668458.76]\n",
            " [40269429.   38319671.43]\n",
            " [40269429.   38175488.11]\n",
            " [40269429.   38728525.32]\n",
            " [40269429.   38754623.81]\n",
            " [40269429.   39342315.85]\n",
            " [40269429.   38813276.99]\n",
            " [40269429.   40518867.04]\n",
            " [40269429.   39408438.43]\n",
            " [40269429.   38127628.99]\n",
            " [40269429.   38087867.68]\n",
            " [40269429.   37353355.38]\n",
            " [40269429.   37838292.59]\n",
            " [40269429.   38982223.2 ]\n",
            " [40269429.   39311992.89]\n",
            " [40269429.   39799807.83]\n",
            " [40269429.   39577111.84]\n",
            " [40269429.   40003644.79]\n",
            " [40269429.   39100842.44]\n",
            " [40269429.   41036995.6 ]\n",
            " [40269429.   40622115.05]\n",
            " [40269429.   39192049.51]\n",
            " [40269429.   38134883.58]\n",
            " [40269429.   38438004.92]\n",
            " [40269429.   38939067.05]\n",
            " [40269429.   38961360.65]\n",
            " [40269429.   40321034.99]\n",
            " [40269429.   40303503.09]\n",
            " [40269429.   39766608.46]\n",
            " [40269429.   41631607.05]\n",
            " [40269429.   41195735.58]\n",
            " [40269429.   40982099.  ]\n",
            " [40269429.   39570709.74]\n",
            " [40269429.   40498880.32]]\n"
          ],
          "name": "stdout"
        }
      ]
    },
    {
      "cell_type": "markdown",
      "metadata": {
        "id": "V4nELFnnIod1",
        "colab_type": "text"
      },
      "source": [
        "## Evaluating the Model Performance"
      ]
    },
    {
      "cell_type": "code",
      "metadata": {
        "id": "_G2QS1UoIsTZ",
        "colab_type": "code",
        "colab": {
          "base_uri": "https://localhost:8080/",
          "height": 51
        },
        "outputId": "8569c436-610c-443a-e67d-7f26d46b3692"
      },
      "source": [
        "from sklearn.metrics import r2_score\n",
        "from sklearn.metrics import mean_squared_error\n",
        "import math\n",
        "print(r2_score(y_test, y_pred))\n",
        "print(math.sqrt(mean_squared_error(y_test, y_pred)))"
      ],
      "execution_count": 7,
      "outputs": [
        {
          "output_type": "stream",
          "text": [
            "-1.036913316164212\n",
            "1598923.0018849394\n"
          ],
          "name": "stdout"
        }
      ]
    },
    {
      "cell_type": "markdown",
      "metadata": {
        "id": "c00DuZWaQd6i",
        "colab_type": "text"
      },
      "source": [
        "## Visualising the Decision Tree results (for higher resolution and smoother curve)"
      ]
    },
    {
      "cell_type": "code",
      "metadata": {
        "id": "zyJQ_QQPMM1N",
        "colab_type": "code",
        "colab": {
          "base_uri": "https://localhost:8080/",
          "height": 295
        },
        "outputId": "ecdefedf-2200-4d6e-cee9-f785fd7a9317"
      },
      "source": [
        "X_grid = np.arange(min(X_test), max(X_test), 0.01)\n",
        "X_grid = X_grid.reshape((len(X_grid), 1))\n",
        "plt.scatter(X_test, y_test, color = 'red')\n",
        "plt.plot(X_grid, regressor.predict(X_grid), color = 'blue')\n",
        "plt.title('Energy Consumption vs Time')\n",
        "plt.xlabel('Time')\n",
        "plt.ylabel('Energy Consumption')\n",
        "plt.show()"
      ],
      "execution_count": 6,
      "outputs": [
        {
          "output_type": "display_data",
          "data": {
            "image/png": "[encoded data removed]",
            "text/plain": [
              "<Figure size 432x288 with 1 Axes>"
            ]
          },
          "metadata": {
            "tags": [],
            "needs_background": "light"
          }
        }
      ]
    },
    {
      "cell_type": "code",
      "metadata": {
        "id": "YHYcGCncQmbP",
        "colab_type": "code",
        "colab": {}
      },
      "source": [
        ""
      ],
      "execution_count": 6,
      "outputs": []
    }
  ]
}