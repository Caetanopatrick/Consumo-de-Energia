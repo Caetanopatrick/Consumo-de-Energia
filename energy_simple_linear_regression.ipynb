{
  "nbformat": 4,
  "nbformat_minor": 0,
  "metadata": {
    "colab": {
      "name": "energy_simple_linear_regression.ipynb",
      "provenance": [],
      "collapsed_sections": [],
      "toc_visible": true
    },
    "kernelspec": {
      "name": "python3",
      "display_name": "Python 3"
    }
  },
  "cells": [
    {
      "cell_type": "markdown",
      "metadata": {
        "id": "CazISR8X_HUG",
        "colab_type": "text"
      },
      "source": [
        "# Simple Linear Regression"
      ]
    },
    {
      "cell_type": "markdown",
      "metadata": {
        "id": "pOyqYHTk_Q57",
        "colab_type": "text"
      },
      "source": [
        "## Importing the libraries"
      ]
    },
    {
      "cell_type": "code",
      "metadata": {
        "id": "T_YHJjnD_Tja",
        "colab_type": "code",
        "colab": {}
      },
      "source": [
        "import numpy as np\n",
        "import matplotlib.pyplot as plt\n",
        "import pandas as pd\n",
        "import math\n",
        "from sklearn.preprocessing import MinMaxScaler\n",
        "from sklearn.metrics import mean_squared_error\n",
        "from sklearn.metrics import r2_score"
      ],
      "execution_count": 4,
      "outputs": []
    },
    {
      "cell_type": "markdown",
      "metadata": {
        "id": "vgC61-ah_WIz",
        "colab_type": "text"
      },
      "source": [
        "## Importing the dataset"
      ]
    },
    {
      "cell_type": "code",
      "metadata": {
        "id": "UrxyEKGn_ez7",
        "colab_type": "code",
        "colab": {}
      },
      "source": [
        "dataset = pd.read_csv('DatasetMonthly3.csv', sep = \",\")\n",
        "\n",
        "\n"
      ],
      "execution_count": 5,
      "outputs": []
    },
    {
      "cell_type": "markdown",
      "metadata": {
        "id": "WemVnqgeA70k",
        "colab_type": "text"
      },
      "source": [
        "## Splitting the dataset into the Training set and Test set"
      ]
    },
    {
      "cell_type": "code",
      "metadata": {
        "id": "Kb_v_ae-A-20",
        "colab_type": "code",
        "colab": {}
      },
      "source": [
        "train = dataset.iloc[0:123,:] \n",
        "test = dataset.iloc[123:-1,:] \n",
        "\n",
        "X_train = np.array(train.iloc[:, 0]).reshape(-1, 1)\n",
        "y_train = np.array(train.iloc[:, 1]).reshape(-1, 1)\n",
        "X_test = np.array(test.iloc[:, 0]).reshape(-1, 1)\n",
        "y_test = np.array(test.iloc[:, 1]).reshape(-1, 1)\n"
      ],
      "execution_count": 6,
      "outputs": []
    },
    {
      "cell_type": "markdown",
      "metadata": {
        "id": "k-McZVsQBINc",
        "colab_type": "text"
      },
      "source": [
        "## Training the Simple Linear Regression model on the Training set"
      ]
    },
    {
      "cell_type": "code",
      "metadata": {
        "id": "ywPjx0L1BMiD",
        "colab_type": "code",
        "colab": {
          "base_uri": "https://localhost:8080/",
          "height": 34
        },
        "outputId": "af185cda-0b3e-42cd-cdc4-1eb0dd3aa877"
      },
      "source": [
        "from sklearn.linear_model import LinearRegression\n",
        "regressor = LinearRegression()\n",
        "regressor.fit(X_train, y_train)"
      ],
      "execution_count": 7,
      "outputs": [
        {
          "output_type": "execute_result",
          "data": {
            "text/plain": [
              "LinearRegression(copy_X=True, fit_intercept=True, n_jobs=None, normalize=False)"
            ]
          },
          "metadata": {
            "tags": []
          },
          "execution_count": 7
        }
      ]
    },
    {
      "cell_type": "markdown",
      "metadata": {
        "id": "xNkXL1YQBiBT",
        "colab_type": "text"
      },
      "source": [
        "## Predicting the Test set results"
      ]
    },
    {
      "cell_type": "code",
      "metadata": {
        "id": "TQKmwvtdBkyb",
        "colab_type": "code",
        "colab": {}
      },
      "source": [
        "y_pred = regressor.predict(X_test)\n"
      ],
      "execution_count": 8,
      "outputs": []
    },
    {
      "cell_type": "markdown",
      "metadata": {
        "id": "50DZZy0UyhLi",
        "colab_type": "text"
      },
      "source": [
        "## Evaluating the Model Performance"
      ]
    },
    {
      "cell_type": "code",
      "metadata": {
        "id": "xPagAOKDywV4",
        "colab_type": "code",
        "colab": {
          "base_uri": "https://localhost:8080/",
          "height": 51
        },
        "outputId": "eab30a5e-9336-472b-e106-f97707fd35fc"
      },
      "source": [
        "from sklearn.metrics import r2_score\n",
        "from sklearn.metrics import mean_squared_error\n",
        "import math\n",
        "print(r2_score(y_test, y_pred))\n",
        "print(math.sqrt(mean_squared_error(y_test, y_pred)))"
      ],
      "execution_count": 13,
      "outputs": [
        {
          "output_type": "stream",
          "text": [
            "-11.301643159255825\n",
            "3929369.2222416378\n"
          ],
          "name": "stdout"
        }
      ]
    },
    {
      "cell_type": "markdown",
      "metadata": {
        "id": "LnZcw_UVOcwB",
        "colab_type": "text"
      },
      "source": [
        "##Visualising the Test Set results"
      ]
    },
    {
      "cell_type": "code",
      "metadata": {
        "id": "V-oC6p_NArN0",
        "colab_type": "code",
        "colab": {
          "base_uri": "https://localhost:8080/",
          "height": 295
        },
        "outputId": "46e494b4-5e9e-4585-b428-00133ba5d00a"
      },
      "source": [
        "plt.scatter(X_test, y_test, color = 'red')\n",
        "plt.plot(X_test, regressor.predict(X_test), color = 'blue')\n",
        "plt.title('Energy Consumption vs Time')\n",
        "plt.xlabel('Time')\n",
        "plt.ylabel('Energy Consumption')\n",
        "plt.show()"
      ],
      "execution_count": 10,
      "outputs": [
        {
          "output_type": "display_data",
          "data": {
            "image/png": "[encoded data removed]",
            "text/plain": [
              "<Figure size 432x288 with 1 Axes>"
            ]
          },
          "metadata": {
            "tags": [],
            "needs_background": "light"
          }
        }
      ]
    },
    {
      "cell_type": "code",
      "metadata": {
        "id": "KOV1zSZ2TsOg",
        "colab_type": "code",
        "colab": {}
      },
      "source": [
        ""
      ],
      "execution_count": 10,
      "outputs": []
    }
  ]
}