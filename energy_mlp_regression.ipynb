{
  "nbformat": 4,
  "nbformat_minor": 0,
  "metadata": {
    "colab": {
      "name": "energy_mlp_regression.ipynb",
      "provenance": [],
      "collapsed_sections": []
    },
    "kernelspec": {
      "name": "python3",
      "display_name": "Python 3"
    }
  },
  "cells": [
    {
      "cell_type": "markdown",
      "metadata": {
        "id": "m3PAEPRDRLA3",
        "colab_type": "text"
      },
      "source": [
        "# Multilayer Perceptron Regression (MLP)"
      ]
    },
    {
      "cell_type": "markdown",
      "metadata": {
        "id": "0VCUAVIjRdzZ",
        "colab_type": "text"
      },
      "source": [
        "## Importing the libraries"
      ]
    },
    {
      "cell_type": "code",
      "metadata": {
        "id": "56oRF-QfSDzC",
        "colab_type": "code",
        "colab": {}
      },
      "source": [
        "import numpy as np\n",
        "import matplotlib.pyplot as plt\n",
        "import pandas as pd"
      ],
      "execution_count": 1,
      "outputs": []
    },
    {
      "cell_type": "markdown",
      "metadata": {
        "id": "fXVXoFWtSF4_",
        "colab_type": "text"
      },
      "source": [
        "## Importing the dataset"
      ]
    },
    {
      "cell_type": "code",
      "metadata": {
        "id": "xfoa8OSORfHQ",
        "colab_type": "code",
        "colab": {}
      },
      "source": [
        "dataset = pd.read_csv('DatasetMonthly3.csv')\n",
        "train = dataset.iloc[0:123,:] \n",
        "test = dataset.iloc[123:-1,:] \n",
        "\n",
        "X_train = np.array(train.iloc[:, 0]).reshape(-1, 1)\n",
        "y_train = np.array(train.iloc[:, 1]).reshape(-1, 1)\n",
        "X_test = np.array(test.iloc[:, 0]).reshape(-1, 1)\n",
        "y_test = np.array(test.iloc[:, 1]).reshape(-1, 1)"
      ],
      "execution_count": 2,
      "outputs": []
    },
    {
      "cell_type": "markdown",
      "metadata": {
        "id": "YS8FeLHYS-nI",
        "colab_type": "text"
      },
      "source": [
        "## Feature Scaling"
      ]
    },
    {
      "cell_type": "code",
      "metadata": {
        "id": "PGeAlD1HTDI1",
        "colab_type": "code",
        "colab": {}
      },
      "source": [
        "from sklearn.preprocessing import StandardScaler\n",
        "sc_X = StandardScaler()\n",
        "sc_y = StandardScaler()\n",
        "X_train = sc_X.fit_transform(X_train)\n",
        "y_train = sc_y.fit_transform(y_train)\n",
        "\n",
        "\n"
      ],
      "execution_count": 3,
      "outputs": []
    },
    {
      "cell_type": "markdown",
      "metadata": {
        "id": "eiU6D2QFRjxY",
        "colab_type": "text"
      },
      "source": [
        "## Training the MLP model on the Training set"
      ]
    },
    {
      "cell_type": "code",
      "metadata": {
        "id": "y6R4rt_GRz15",
        "colab_type": "code",
        "colab": {
          "base_uri": "https://localhost:8080/",
          "height": 343
        },
        "outputId": "bd016e0f-678e-4e5e-f9cd-7eafa3e8e38d"
      },
      "source": [
        "from sklearn.neural_network import MLPRegressor\n",
        "from sklearn.datasets import make_regression\n",
        "from sklearn.model_selection import train_test_split\n",
        "\n",
        "regressor = MLPRegressor(random_state=1, max_iter=500).fit(X_train, y_train)\n",
        "regressor.predict(X_test)\n"
      ],
      "execution_count": 4,
      "outputs": [
        {
          "output_type": "stream",
          "text": [
            "/usr/local/lib/python3.6/dist-packages/sklearn/neural_network/_multilayer_perceptron.py:1342: DataConversionWarning: A column-vector y was passed when a 1d array was expected. Please change the shape of y to (n_samples, ), for example using ravel().\n",
            "  y = column_or_1d(y, warn=True)\n"
          ],
          "name": "stderr"
        },
        {
          "output_type": "execute_result",
          "data": {
            "text/plain": [
              "array([34530.19044154, 34555.01409307, 34580.66519965, 34605.48885117,\n",
              "       34631.13995775, 34656.79106433, 34681.61471585, 34707.26582243,\n",
              "       34732.08947395, 34757.74058053, 34783.39168711, 34806.56042853,\n",
              "       34832.21153511, 34857.03518663, 34882.68629321, 34907.50994474,\n",
              "       34933.16105131, 34958.81215789, 34983.63580942, 35009.28691599,\n",
              "       35034.11056752, 35059.7616741 , 35085.41278067, 35109.40897715,\n",
              "       35135.06008373, 35159.88373525, 35185.53484183, 35210.35849335,\n",
              "       35236.00959993, 35261.66070651, 35286.48435803, 35312.13546461,\n",
              "       35336.95911614, 35362.61022271, 35388.26132929, 35411.43007072,\n",
              "       35437.08117729, 35461.90482882, 35487.55593539, 35512.37958692,\n",
              "       35538.0306935 , 35563.68180007, 35588.5054516 , 35614.15655818,\n",
              "       35638.9802097 , 35664.63131628, 35690.28242286, 35713.45116428,\n",
              "       35739.10227086, 35763.92592238, 35789.57702896, 35814.40068049,\n",
              "       35840.05178706, 35865.70289364, 35890.52654517, 35916.17765174,\n",
              "       35941.00130327, 35966.65240985, 35992.30351642, 36015.47225785,\n",
              "       36041.12336442, 36065.94701595])"
            ]
          },
          "metadata": {
            "tags": []
          },
          "execution_count": 4
        }
      ]
    },
    {
      "cell_type": "markdown",
      "metadata": {
        "id": "aPYA5W1pDBOE",
        "colab_type": "text"
      },
      "source": [
        "## Predicting the Test set results"
      ]
    },
    {
      "cell_type": "code",
      "metadata": {
        "id": "vSqFVDYrDROW",
        "colab_type": "code",
        "colab": {
          "base_uri": "https://localhost:8080/",
          "height": 1000
        },
        "outputId": "1f473639-1a9f-48c8-8201-fd0c8e9dacb0"
      },
      "source": [
        "y_pred = sc_y.inverse_transform(regressor.predict(sc_X.transform(X_test)))\n",
        "np.set_printoptions(precision=2)\n",
        "print(np.concatenate((y_pred.reshape(len(y_pred),1), y_test.reshape(len(y_test),1)),1))"
      ],
      "execution_count": 5,
      "outputs": [
        {
          "output_type": "stream",
          "text": [
            "[[39724557.22 39591854.  ]\n",
            " [39821556.07 39100499.  ]\n",
            " [39918180.92 37726472.88]\n",
            " [40011589.1  37866809.  ]\n",
            " [40107846.16 38550694.  ]\n",
            " [40201886.35 38894976.  ]\n",
            " [40291720.27 40100440.59]\n",
            " [40384548.66 40950726.39]\n",
            " [40474382.58 39838307.03]\n",
            " [40567210.96 40738291.74]\n",
            " [40660039.35 40699842.98]\n",
            " [40743884.34 39735951.44]\n",
            " [40836712.73 39573744.46]\n",
            " [40926546.65 38179073.88]\n",
            " [41019375.03 37240557.1 ]\n",
            " [41109208.96 36792495.92]\n",
            " [41202037.34 37836828.47]\n",
            " [41294865.73 37818309.05]\n",
            " [41384699.65 39252000.52]\n",
            " [41477528.03 39201262.49]\n",
            " [41566173.77 38645417.47]\n",
            " [41657000.37 38376549.11]\n",
            " [41747826.96 38693924.07]\n",
            " [41832793.77 39427420.71]\n",
            " [41923620.37 40248709.4 ]\n",
            " [42011517.07 38626336.87]\n",
            " [42102343.66 37527874.44]\n",
            " [42190240.37 37232054.08]\n",
            " [42281066.96 37668458.76]\n",
            " [42371805.44 38319671.43]\n",
            " [42459322.18 38175488.11]\n",
            " [42549756.14 38728525.32]\n",
            " [42637272.88 38754623.81]\n",
            " [42727706.84 39342315.85]\n",
            " [42818140.81 38813276.99]\n",
            " [42899823.1  40518867.04]\n",
            " [42990257.06 39408438.43]\n",
            " [43077773.8  38127628.99]\n",
            " [43168207.76 38087867.68]\n",
            " [43255724.5  37353355.38]\n",
            " [43346158.46 37838292.59]\n",
            " [43436592.43 38982223.2 ]\n",
            " [43524109.17 39311992.89]\n",
            " [43614543.13 39799807.83]\n",
            " [43702059.87 39577111.84]\n",
            " [43792493.83 40003644.79]\n",
            " [43882927.8  39100842.44]\n",
            " [43964610.09 41036995.6 ]\n",
            " [44055044.05 40622115.05]\n",
            " [44142560.79 39192049.51]\n",
            " [44232994.75 38134883.58]\n",
            " [44320511.49 38438004.92]\n",
            " [44410945.45 38939067.05]\n",
            " [44501379.42 38961360.65]\n",
            " [44588896.16 40321034.99]\n",
            " [44679330.12 40303503.09]\n",
            " [44766846.86 39766608.46]\n",
            " [44857280.82 41631607.05]\n",
            " [44947714.79 41195735.58]\n",
            " [45029397.08 40982099.  ]\n",
            " [45119831.04 39570709.74]\n",
            " [45207347.78 40498880.32]]\n"
          ],
          "name": "stdout"
        }
      ]
    },
    {
      "cell_type": "markdown",
      "metadata": {
        "id": "CMsYlps2DX1d",
        "colab_type": "text"
      },
      "source": [
        "## Evaluating the Model Performance"
      ]
    },
    {
      "cell_type": "code",
      "metadata": {
        "id": "HxsRWlURDr6S",
        "colab_type": "code",
        "colab": {
          "base_uri": "https://localhost:8080/",
          "height": 51
        },
        "outputId": "69d33825-3427-4bf8-f5ec-ea92dddf29f3"
      },
      "source": [
        "from sklearn.metrics import r2_score\n",
        "from sklearn.metrics import mean_squared_error\n",
        "import math\n",
        "print(r2_score(y_test, y_pred))\n",
        "print(math.sqrt(mean_squared_error(y_test, y_pred)))"
      ],
      "execution_count": 6,
      "outputs": [
        {
          "output_type": "stream",
          "text": [
            "-10.209918141497567\n",
            "3750960.555533535\n"
          ],
          "name": "stdout"
        }
      ]
    },
    {
      "cell_type": "markdown",
      "metadata": {
        "id": "HlrvC4EkP-gZ",
        "colab_type": "text"
      },
      "source": [
        "## Visualising the MLP Regression results (for higher resolution and smoother curve)"
      ]
    },
    {
      "cell_type": "code",
      "metadata": {
        "id": "8qV_qOQgJE3V",
        "colab_type": "code",
        "colab": {
          "base_uri": "https://localhost:8080/",
          "height": 295
        },
        "outputId": "e938fad3-be4e-40ff-fdaf-98c97978194e"
      },
      "source": [
        "X_grid = np.arange(min(X_test), max(X_test), 0.1)\n",
        "X_grid = X_grid.reshape((len(X_grid), 1))\n",
        "plt.scatter(X_test, y_test, color = 'red')\n",
        "plt.plot(X_grid, sc_y.inverse_transform(regressor.predict(sc_X.transform(X_grid))), color = 'blue')\n",
        "plt.title('Energy Consumption vs Time')\n",
        "plt.xlabel('Time')\n",
        "plt.ylabel('Energy Consumption')\n",
        "plt.show()"
      ],
      "execution_count": 7,
      "outputs": [
        {
          "output_type": "display_data",
          "data": {
            "image/png": "[encoded data removed]",
            "text/plain": [
              "<Figure size 432x288 with 1 Axes>"
            ]
          },
          "metadata": {
            "tags": [],
            "needs_background": "light"
          }
        }
      ]
    }
  ]
}